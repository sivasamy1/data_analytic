{
  "nbformat": 4,
  "nbformat_minor": 0,
  "metadata": {
    "colab": {
      "provenance": [],
      "authorship_tag": "ABX9TyNFgKGtijpa7MujGhXs8Oxl",
      "include_colab_link": true
    },
    "kernelspec": {
      "name": "python3",
      "display_name": "Python 3"
    },
    "language_info": {
      "name": "python"
    }
  },
  "cells": [
    {
      "cell_type": "markdown",
      "metadata": {
        "id": "view-in-github",
        "colab_type": "text"
      },
      "source": [
        "<a href=\"https://colab.research.google.com/github/sivasamy1/data_analytic/blob/main/CS1.ipynb\" target=\"_parent\"><img src=\"https://colab.research.google.com/assets/colab-badge.svg\" alt=\"Open In Colab\"/></a>"
      ]
    },
    {
      "cell_type": "code",
      "execution_count": 1,
      "metadata": {
        "id": "W4BZGaNvpek9"
      },
      "outputs": [],
      "source": [
        "# import all necessary lib\n",
        "\n",
        "import pandas as pd\n",
        "from tabulate import tabulate\n",
        "import traceback\n",
        "import numpy as np\n",
        "import matplotlib.pyplot as plt\n",
        "from requests import get\n",
        "import requests\n",
        "import os\n",
        "import csv"
      ]
    },
    {
      "cell_type": "code",
      "source": [
        "#list\n",
        "\n",
        "lst_names = []\n",
        "lst_cities = [\"Banglore\", \"Chennai\", \"SFO\", \"beijing\"]\n",
        "lst_cities.append(\"NYC\")\n",
        "lst_age = [10, 20]\n",
        "lst_age.append(30)\n",
        "for val in lst_cities:\n",
        "  print(val)\n",
        "if \"SFO\" in lst_cities:\n",
        "  print(\"yes\")\n",
        "else:\n",
        "  print(\"no\")\n"
      ],
      "metadata": {
        "colab": {
          "base_uri": "https://localhost:8080/"
        },
        "id": "Ocdhj3e-qY5G",
        "outputId": "06e3a506-9af4-4201-f365-82c4ec74ca25"
      },
      "execution_count": 2,
      "outputs": [
        {
          "output_type": "stream",
          "name": "stdout",
          "text": [
            "Banglore\n",
            "Chennai\n",
            "SFO\n",
            "beijing\n",
            "NYC\n",
            "yes\n"
          ]
        }
      ]
    },
    {
      "cell_type": "code",
      "source": [
        "  #Iterate list values along with index\n",
        "\n",
        "lst_pets = [\"dog\", \"cat\"]\n",
        "for i, value in enumerate(lst_pets):\n",
        "    print(f\"At index {i}, the value in the list is {value}\")\n",
        "\n"
      ],
      "metadata": {
        "id": "2MTrfpOerQNf",
        "colab": {
          "base_uri": "https://localhost:8080/"
        },
        "outputId": "4ddd0ffb-2a2f-4939-9b7a-78dd2011219d"
      },
      "execution_count": 6,
      "outputs": [
        {
          "output_type": "stream",
          "name": "stdout",
          "text": [
            "At index 0, the value in the list is dog\n",
            "At index 1, the value in the list is cat\n"
          ]
        }
      ]
    },
    {
      "cell_type": "code",
      "source": [
        "#set\n",
        "\n",
        "# empty set\n",
        "set_names = ()\n",
        "# Set with some string values in it\n",
        "set_cities = [\"Bangalore\", \"Chennai\", \"SFO\", \"Beijing\"]\n",
        "# append to existing list\n",
        "set_cities.append(\"NYC\")\n",
        "# list with some integer values\n",
        "set_age = [10, 20]\n",
        "# append an integer to the existing list\n",
        "set_age.append(30)\n",
        "print(set_cities)\n",
        "print(set_age)\n",
        "\n"
      ],
      "metadata": {
        "id": "D6StGjXYqoVk",
        "colab": {
          "base_uri": "https://localhost:8080/"
        },
        "outputId": "dbfa0339-06e7-4e23-e45b-a75b6406a9dd"
      },
      "execution_count": 10,
      "outputs": [
        {
          "output_type": "stream",
          "name": "stdout",
          "text": [
            "['Bangalore', 'Chennai', 'SFO', 'Beijing', 'NYC']\n",
            "[10, 20, 30]\n"
          ]
        }
      ]
    },
    {
      "cell_type": "code",
      "source": [
        "|#dictionary\n",
        "\n",
        "# declare dictionary\n",
        "dict_data = {}\n",
        "# insert a empty list into the dictionary\n",
        "dict_data['pet'] = []\n",
        "# append/add a list of dict to the list\n",
        "dict_data['pet'].append({\n",
        "   'name': 'Dog',\n",
        "   'website': 'dog.com',\n",
        "   'from': 'San Francisco'\n",
        "})\n",
        "dict_data['pet'].append({\n",
        "   'name': 'Cat',\n",
        "   'website': 'hellokitty.com',\n",
        "   'from': 'Seattle'\n",
        "})\n",
        "print(dict_data)\n"
      ],
      "metadata": {
        "id": "kZMZs6JwVKsa",
        "colab": {
          "base_uri": "https://localhost:8080/"
        },
        "outputId": "22866d82-13b8-40a3-efc2-49d1e695bde8"
      },
      "execution_count": 8,
      "outputs": [
        {
          "output_type": "stream",
          "name": "stdout",
          "text": [
            "{'pet': [{'name': 'Dog', 'website': 'dog.com', 'from': 'San Francisco'}, {'name': 'Cat', 'website': 'hellokitty.com', 'from': 'Seattle'}]}\n"
          ]
        }
      ]
    },
    {
      "cell_type": "code",
      "source": [
        "#len(df) function\n",
        "\n",
        "# list having different pet types\n",
        "lst_pet_types = [\"cat\", \"dog\", \"horse\"]\n",
        "# returns number of elements in the list\n",
        "c_pet_types = len(lst_pet_types)\n",
        "# prints 3\n",
        "print(f\"# pet types: {c_pet_types}\")\n",
        "# Using len() for dictionary\n",
        "dict_pets = {\"name\": \"dog\", \"age\": 2}\n",
        "# returns number of keys in the dictionary\n",
        "c_pets = len(dict_pets)\n",
        "# prints 2\n",
        "print(f\"# pets: {c_pets}\")\n",
        "dict_pets = {\"pets\": [{\"name\": \"dog\", \"age\": 2}, {\"name\": \"dog\", \"age\": 2}]}\n",
        "dict_p_h = {\"pets\": [{\"name\": \"dog\", \"age\": 2}, {\"name\": \"dog\", \"age\": 2}],\n",
        "           \"persons\": [{\"name\": \"ram\", \"age\": 12}, {\"name\": \"kumaran\", \"age\": 11}]}\n",
        "# returns number of keys in the dictionary\n",
        "c_pets, c_humans = len(dict_pets), len(dict_p_h)\n",
        "# prints 1\n",
        "print(f\"# pets: {c_pets} ; # humans: {c_humans}\")\n",
        "# get only keys from the dictionary\n",
        "lst_keys = [*dict_p_h]\n",
        "# get only values from the dictionary\n",
        "lst_values = [*dict_p_h.values()]\n",
        "# prints\n",
        "print(f\"# keys: {len(lst_keys)} | # values: {len(lst_values)}\")\n",
        "print(f\"keys: {lst_keys} | values: {lst_values}\")\n",
        "\n"
      ],
      "metadata": {
        "id": "r4cqrUpBVPE2",
        "colab": {
          "base_uri": "https://localhost:8080/"
        },
        "outputId": "b2ab3c91-0a51-4cdd-9f6d-fa48c32929b8"
      },
      "execution_count": 11,
      "outputs": [
        {
          "output_type": "stream",
          "name": "stdout",
          "text": [
            "# pet types: 3\n",
            "# pets: 2\n",
            "# pets: 1 ; # humans: 2\n",
            "# keys: 2 | # values: 2\n",
            "keys: ['pets', 'persons'] | values: [[{'name': 'dog', 'age': 2}, {'name': 'dog', 'age': 2}], [{'name': 'ram', 'age': 12}, {'name': 'kumaran', 'age': 11}]]\n"
          ]
        }
      ]
    },
    {
      "cell_type": "code",
      "source": [
        "#rename columns of dataframe\n",
        "df = pd.DataFrame(dict_p_h)\n",
        "print(df.columns)\n",
        "\n",
        "# access each column individually\n",
        "for col in df.columns:\n",
        "    print(col)\n",
        "\n",
        "# assign new names to df.columns\n",
        "df.columns = ['Animals', 'Humans']\n",
        "print(df.columns)\n",
        "print(df)"
      ],
      "metadata": {
        "id": "xJwH_VzyVWeB",
        "colab": {
          "base_uri": "https://localhost:8080/"
        },
        "outputId": "21a467b2-b534-41f5-a44b-3cefe8e10693"
      },
      "execution_count": 12,
      "outputs": [
        {
          "output_type": "stream",
          "name": "stdout",
          "text": [
            "Index(['pets', 'persons'], dtype='object')\n",
            "pets\n",
            "persons\n",
            "Index(['Animals', 'Humans'], dtype='object')\n",
            "                     Animals                          Humans\n",
            "0  {'name': 'dog', 'age': 2}      {'name': 'ram', 'age': 12}\n",
            "1  {'name': 'dog', 'age': 2}  {'name': 'kumaran', 'age': 11}\n"
          ]
        }
      ]
    },
    {
      "cell_type": "code",
      "source": [
        "# delete a column\n",
        "df = df.drop(columns=['Animals'])\n",
        "print(df)"
      ],
      "metadata": {
        "id": "Lh7pRQNWVtIu",
        "colab": {
          "base_uri": "https://localhost:8080/"
        },
        "outputId": "9df7c7fc-a4cc-4f12-94ee-b8480bd33c39"
      },
      "execution_count": 13,
      "outputs": [
        {
          "output_type": "stream",
          "name": "stdout",
          "text": [
            "                           Humans\n",
            "0      {'name': 'ram', 'age': 12}\n",
            "1  {'name': 'kumaran', 'age': 11}\n"
          ]
        }
      ]
    },
    {
      "cell_type": "code",
      "source": [
        "# strip() - removes a leading or trailing blank space\n",
        "txt = \"     Moscow      \"\n",
        "str_clean = txt.strip()\n",
        "print(f\"From weather reort, {str_clean} is too cold most of the times\")\n"
      ],
      "metadata": {
        "id": "Gm9vAQFznBJe",
        "colab": {
          "base_uri": "https://localhost:8080/"
        },
        "outputId": "8b390355-262c-44fc-c126-7bb7758055e1"
      },
      "execution_count": 14,
      "outputs": [
        {
          "output_type": "stream",
          "name": "stdout",
          "text": [
            "From weather reort, Moscow is too cold most of the times\n"
          ]
        }
      ]
    },
    {
      "cell_type": "code",
      "source": [
        "#join()\n",
        "\n",
        "lst_items = ['rambo', 'dog', 'chennai']\n",
        "st = ','.join(lst_items)\n",
        "print(st)\n",
        "print(lst_items)"
      ],
      "metadata": {
        "id": "2yTXATLZpPku",
        "colab": {
          "base_uri": "https://localhost:8080/"
        },
        "outputId": "ab6722e5-2e29-4a4d-87d9-c3f355c5203d"
      },
      "execution_count": 102,
      "outputs": [
        {
          "output_type": "stream",
          "name": "stdout",
          "text": [
            "rambo,dog,chennai\n",
            "['rambo', 'dog', 'chennai']\n"
          ]
        }
      ]
    },
    {
      "cell_type": "code",
      "source": [
        "\n",
        "\n",
        "# Example DataFrame\n",
        "data = {\n",
        "    'Name': ['Alice', 'Bob', 'Charlie', 'David', 'Emily', 'Frank', 'Grace', 'Hannah', 'Ivy', 'Jack'],\n",
        "    'Age': [25, 30, 35, 28, 32, 27, 31, 29, 26, 33],\n",
        "    'City': ['New York', 'Los Angeles', 'Chicago', 'Houston', 'Phoenix', 'Philadelphia', 'San Antonio', 'San Diego', 'Dallas', 'San Jose']\n",
        "}\n",
        "\n",
        "df = pd.DataFrame(data)\n",
        "print(df.head(9))"
      ],
      "metadata": {
        "id": "hJSbskyMq4nS",
        "colab": {
          "base_uri": "https://localhost:8080/"
        },
        "outputId": "b293b862-4ba3-4bf7-b738-d0f25201c4d6"
      },
      "execution_count": 16,
      "outputs": [
        {
          "output_type": "stream",
          "name": "stdout",
          "text": [
            "      Name  Age          City\n",
            "0    Alice   25      New York\n",
            "1      Bob   30   Los Angeles\n",
            "2  Charlie   35       Chicago\n",
            "3    David   28       Houston\n",
            "4    Emily   32       Phoenix\n",
            "5    Frank   27  Philadelphia\n",
            "6    Grace   31   San Antonio\n",
            "7   Hannah   29     San Diego\n",
            "8      Ivy   26        Dallas\n"
          ]
        }
      ]
    },
    {
      "cell_type": "code",
      "source": [
        "print(df.shape)"
      ],
      "metadata": {
        "id": "T9d45NsescfT",
        "colab": {
          "base_uri": "https://localhost:8080/"
        },
        "outputId": "a0da7c02-95f1-4db5-a918-f66d23fd4db1"
      },
      "execution_count": 17,
      "outputs": [
        {
          "output_type": "stream",
          "name": "stdout",
          "text": [
            "(10, 3)\n"
          ]
        }
      ]
    },
    {
      "cell_type": "code",
      "source": [
        "print(list(df))"
      ],
      "metadata": {
        "colab": {
          "base_uri": "https://localhost:8080/"
        },
        "id": "FoVURtkHuXXv",
        "outputId": "cb36de73-bef0-4d92-b48d-1247efb38d78"
      },
      "execution_count": 18,
      "outputs": [
        {
          "output_type": "stream",
          "name": "stdout",
          "text": [
            "['Name', 'Age', 'City']\n"
          ]
        }
      ]
    },
    {
      "cell_type": "code",
      "source": [
        "print(df.dtypes)"
      ],
      "metadata": {
        "id": "GObm241auc3j",
        "colab": {
          "base_uri": "https://localhost:8080/"
        },
        "outputId": "f8bc3a7e-5856-4c33-83a7-2b0d94288149"
      },
      "execution_count": 19,
      "outputs": [
        {
          "output_type": "stream",
          "name": "stdout",
          "text": [
            "Name    object\n",
            "Age      int64\n",
            "City    object\n",
            "dtype: object\n"
          ]
        }
      ]
    },
    {
      "cell_type": "code",
      "source": [
        "print(df.describe(include='all'))"
      ],
      "metadata": {
        "id": "ZRx-Ujhuuh3I",
        "colab": {
          "base_uri": "https://localhost:8080/"
        },
        "outputId": "b4afd1b8-9836-49d7-e60c-df053cca7e31"
      },
      "execution_count": 20,
      "outputs": [
        {
          "output_type": "stream",
          "name": "stdout",
          "text": [
            "         Name        Age      City\n",
            "count      10  10.000000        10\n",
            "unique     10        NaN        10\n",
            "top     Alice        NaN  New York\n",
            "freq        1        NaN         1\n",
            "mean      NaN  29.600000       NaN\n",
            "std       NaN   3.204164       NaN\n",
            "min       NaN  25.000000       NaN\n",
            "25%       NaN  27.250000       NaN\n",
            "50%       NaN  29.500000       NaN\n",
            "75%       NaN  31.750000       NaN\n",
            "max       NaN  35.000000       NaN\n"
          ]
        }
      ]
    },
    {
      "cell_type": "code",
      "source": [
        "from tabulate import tabulate\n",
        "# custom function for pretty print\n",
        "def pretty_print(title, df, n):\n",
        "   print(f\"\\n{title}:\")\n",
        "   print(tabulate(df.head(n), headers=\"keys\", tablefmt=\"psql\"))\n"
      ],
      "metadata": {
        "id": "eUm8qLg_vJSS"
      },
      "execution_count": 21,
      "outputs": []
    },
    {
      "cell_type": "code",
      "source": [
        "pretty_print(\"Sample DataFrame\", df, 9)"
      ],
      "metadata": {
        "colab": {
          "base_uri": "https://localhost:8080/"
        },
        "id": "uX6LTRlEF35p",
        "outputId": "67a6fc68-3cd2-44f9-ce82-ff635edd2b44"
      },
      "execution_count": 22,
      "outputs": [
        {
          "output_type": "stream",
          "name": "stdout",
          "text": [
            "\n",
            "Sample DataFrame:\n",
            "+----+---------+-------+--------------+\n",
            "|    | Name    |   Age | City         |\n",
            "|----+---------+-------+--------------|\n",
            "|  0 | Alice   |    25 | New York     |\n",
            "|  1 | Bob     |    30 | Los Angeles  |\n",
            "|  2 | Charlie |    35 | Chicago      |\n",
            "|  3 | David   |    28 | Houston      |\n",
            "|  4 | Emily   |    32 | Phoenix      |\n",
            "|  5 | Frank   |    27 | Philadelphia |\n",
            "|  6 | Grace   |    31 | San Antonio  |\n",
            "|  7 | Hannah  |    29 | San Diego    |\n",
            "|  8 | Ivy     |    26 | Dallas       |\n",
            "+----+---------+-------+--------------+\n"
          ]
        }
      ]
    },
    {
      "cell_type": "code",
      "source": [
        "lst_age = df[\"Age\"].unique()\n",
        "# also works\n",
        "lst_age = df.Age.unique()\n",
        "\n",
        "print(lst_age)"
      ],
      "metadata": {
        "id": "MbAFK1ZpGYgn",
        "colab": {
          "base_uri": "https://localhost:8080/"
        },
        "outputId": "a892a74b-3084-48be-dd9c-a3ed2d8d242c"
      },
      "execution_count": 23,
      "outputs": [
        {
          "output_type": "stream",
          "name": "stdout",
          "text": [
            "[25 30 35 28 32 27 31 29 26 33]\n"
          ]
        }
      ]
    },
    {
      "cell_type": "code",
      "source": [
        "df[\"Age\"].value_counts\n"
      ],
      "metadata": {
        "id": "53fnQVR_HN1-",
        "colab": {
          "base_uri": "https://localhost:8080/",
          "height": 204
        },
        "outputId": "4b2e74d2-0bc2-442e-b697-43070c18054f"
      },
      "execution_count": 24,
      "outputs": [
        {
          "output_type": "execute_result",
          "data": {
            "text/plain": [
              "<bound method IndexOpsMixin.value_counts of 0    25\n",
              "1    30\n",
              "2    35\n",
              "3    28\n",
              "4    32\n",
              "5    27\n",
              "6    31\n",
              "7    29\n",
              "8    26\n",
              "9    33\n",
              "Name: Age, dtype: int64>"
            ],
            "text/html": [
              "<div style=\"max-width:800px; border: 1px solid var(--colab-border-color);\"><style>\n",
              "      pre.function-repr-contents {\n",
              "        overflow-x: auto;\n",
              "        padding: 8px 12px;\n",
              "        max-height: 500px;\n",
              "      }\n",
              "\n",
              "      pre.function-repr-contents.function-repr-contents-collapsed {\n",
              "        cursor: pointer;\n",
              "        max-height: 100px;\n",
              "      }\n",
              "    </style>\n",
              "    <pre style=\"white-space: initial; background:\n",
              "         var(--colab-secondary-surface-color); padding: 8px 12px;\n",
              "         border-bottom: 1px solid var(--colab-border-color);\"><b>pandas.core.base.IndexOpsMixin.value_counts</b><br/>def value_counts(normalize: bool=False, sort: bool=True, ascending: bool=False, bins=None, dropna: bool=True) -&gt; Series</pre><pre class=\"function-repr-contents function-repr-contents-collapsed\" style=\"\"><a class=\"filepath\" style=\"display:none\" href=\"#\">/usr/local/lib/python3.10/dist-packages/pandas/core/base.py</a>Return a Series containing counts of unique values.\n",
              "\n",
              "The resulting object will be in descending order so that the\n",
              "first element is the most frequently-occurring element.\n",
              "Excludes NA values by default.\n",
              "\n",
              "Parameters\n",
              "----------\n",
              "normalize : bool, default False\n",
              "    If True then the object returned will contain the relative\n",
              "    frequencies of the unique values.\n",
              "sort : bool, default True\n",
              "    Sort by frequencies.\n",
              "ascending : bool, default False\n",
              "    Sort in ascending order.\n",
              "bins : int, optional\n",
              "    Rather than count values, group them into half-open bins,\n",
              "    a convenience for ``pd.cut``, only works with numeric data.\n",
              "dropna : bool, default True\n",
              "    Don&#x27;t include counts of NaN.\n",
              "\n",
              "Returns\n",
              "-------\n",
              "Series\n",
              "\n",
              "See Also\n",
              "--------\n",
              "Series.count: Number of non-NA elements in a Series.\n",
              "DataFrame.count: Number of non-NA elements in a DataFrame.\n",
              "DataFrame.value_counts: Equivalent method on DataFrames.\n",
              "\n",
              "Examples\n",
              "--------\n",
              "&gt;&gt;&gt; index = pd.Index([3, 1, 2, 3, 4, np.nan])\n",
              "&gt;&gt;&gt; index.value_counts()\n",
              "3.0    2\n",
              "1.0    1\n",
              "2.0    1\n",
              "4.0    1\n",
              "Name: count, dtype: int64\n",
              "\n",
              "With `normalize` set to `True`, returns the relative frequency by\n",
              "dividing all values by the sum of values.\n",
              "\n",
              "&gt;&gt;&gt; s = pd.Series([3, 1, 2, 3, 4, np.nan])\n",
              "&gt;&gt;&gt; s.value_counts(normalize=True)\n",
              "3.0    0.4\n",
              "1.0    0.2\n",
              "2.0    0.2\n",
              "4.0    0.2\n",
              "Name: proportion, dtype: float64\n",
              "\n",
              "**bins**\n",
              "\n",
              "Bins can be useful for going from a continuous variable to a\n",
              "categorical variable; instead of counting unique\n",
              "apparitions of values, divide the index in the specified\n",
              "number of half-open bins.\n",
              "\n",
              "&gt;&gt;&gt; s.value_counts(bins=3)\n",
              "(0.996, 2.0]    2\n",
              "(2.0, 3.0]      2\n",
              "(3.0, 4.0]      1\n",
              "Name: count, dtype: int64\n",
              "\n",
              "**dropna**\n",
              "\n",
              "With `dropna` set to `False` we can also see NaN index values.\n",
              "\n",
              "&gt;&gt;&gt; s.value_counts(dropna=False)\n",
              "3.0    2\n",
              "1.0    1\n",
              "2.0    1\n",
              "4.0    1\n",
              "NaN    1\n",
              "Name: count, dtype: int64</pre>\n",
              "      <script>\n",
              "      if (google.colab.kernel.accessAllowed && google.colab.files && google.colab.files.view) {\n",
              "        for (const element of document.querySelectorAll('.filepath')) {\n",
              "          element.style.display = 'block'\n",
              "          element.onclick = (event) => {\n",
              "            event.preventDefault();\n",
              "            event.stopPropagation();\n",
              "            google.colab.files.view(element.textContent, 928);\n",
              "          };\n",
              "        }\n",
              "      }\n",
              "      for (const element of document.querySelectorAll('.function-repr-contents')) {\n",
              "        element.onclick = (event) => {\n",
              "          event.preventDefault();\n",
              "          event.stopPropagation();\n",
              "          element.classList.toggle('function-repr-contents-collapsed');\n",
              "        };\n",
              "      }\n",
              "      </script>\n",
              "      </div>"
            ]
          },
          "metadata": {},
          "execution_count": 24
        }
      ]
    },
    {
      "cell_type": "code",
      "source": [
        "df.groupby(\"Age\").count()"
      ],
      "metadata": {
        "id": "1MGMTaQoYr1X",
        "colab": {
          "base_uri": "https://localhost:8080/",
          "height": 394
        },
        "outputId": "074abe20-8fa4-4947-88e5-ed659c7a407e"
      },
      "execution_count": 25,
      "outputs": [
        {
          "output_type": "execute_result",
          "data": {
            "text/plain": [
              "     Name  City\n",
              "Age            \n",
              "25      1     1\n",
              "26      1     1\n",
              "27      1     1\n",
              "28      1     1\n",
              "29      1     1\n",
              "30      1     1\n",
              "31      1     1\n",
              "32      1     1\n",
              "33      1     1\n",
              "35      1     1"
            ],
            "text/html": [
              "\n",
              "  <div id=\"df-38aabde1-33d5-4c48-bd6d-05353b1a5117\" class=\"colab-df-container\">\n",
              "    <div>\n",
              "<style scoped>\n",
              "    .dataframe tbody tr th:only-of-type {\n",
              "        vertical-align: middle;\n",
              "    }\n",
              "\n",
              "    .dataframe tbody tr th {\n",
              "        vertical-align: top;\n",
              "    }\n",
              "\n",
              "    .dataframe thead th {\n",
              "        text-align: right;\n",
              "    }\n",
              "</style>\n",
              "<table border=\"1\" class=\"dataframe\">\n",
              "  <thead>\n",
              "    <tr style=\"text-align: right;\">\n",
              "      <th></th>\n",
              "      <th>Name</th>\n",
              "      <th>City</th>\n",
              "    </tr>\n",
              "    <tr>\n",
              "      <th>Age</th>\n",
              "      <th></th>\n",
              "      <th></th>\n",
              "    </tr>\n",
              "  </thead>\n",
              "  <tbody>\n",
              "    <tr>\n",
              "      <th>25</th>\n",
              "      <td>1</td>\n",
              "      <td>1</td>\n",
              "    </tr>\n",
              "    <tr>\n",
              "      <th>26</th>\n",
              "      <td>1</td>\n",
              "      <td>1</td>\n",
              "    </tr>\n",
              "    <tr>\n",
              "      <th>27</th>\n",
              "      <td>1</td>\n",
              "      <td>1</td>\n",
              "    </tr>\n",
              "    <tr>\n",
              "      <th>28</th>\n",
              "      <td>1</td>\n",
              "      <td>1</td>\n",
              "    </tr>\n",
              "    <tr>\n",
              "      <th>29</th>\n",
              "      <td>1</td>\n",
              "      <td>1</td>\n",
              "    </tr>\n",
              "    <tr>\n",
              "      <th>30</th>\n",
              "      <td>1</td>\n",
              "      <td>1</td>\n",
              "    </tr>\n",
              "    <tr>\n",
              "      <th>31</th>\n",
              "      <td>1</td>\n",
              "      <td>1</td>\n",
              "    </tr>\n",
              "    <tr>\n",
              "      <th>32</th>\n",
              "      <td>1</td>\n",
              "      <td>1</td>\n",
              "    </tr>\n",
              "    <tr>\n",
              "      <th>33</th>\n",
              "      <td>1</td>\n",
              "      <td>1</td>\n",
              "    </tr>\n",
              "    <tr>\n",
              "      <th>35</th>\n",
              "      <td>1</td>\n",
              "      <td>1</td>\n",
              "    </tr>\n",
              "  </tbody>\n",
              "</table>\n",
              "</div>\n",
              "    <div class=\"colab-df-buttons\">\n",
              "\n",
              "  <div class=\"colab-df-container\">\n",
              "    <button class=\"colab-df-convert\" onclick=\"convertToInteractive('df-38aabde1-33d5-4c48-bd6d-05353b1a5117')\"\n",
              "            title=\"Convert this dataframe to an interactive table.\"\n",
              "            style=\"display:none;\">\n",
              "\n",
              "  <svg xmlns=\"http://www.w3.org/2000/svg\" height=\"24px\" viewBox=\"0 -960 960 960\">\n",
              "    <path d=\"M120-120v-720h720v720H120Zm60-500h600v-160H180v160Zm220 220h160v-160H400v160Zm0 220h160v-160H400v160ZM180-400h160v-160H180v160Zm440 0h160v-160H620v160ZM180-180h160v-160H180v160Zm440 0h160v-160H620v160Z\"/>\n",
              "  </svg>\n",
              "    </button>\n",
              "\n",
              "  <style>\n",
              "    .colab-df-container {\n",
              "      display:flex;\n",
              "      gap: 12px;\n",
              "    }\n",
              "\n",
              "    .colab-df-convert {\n",
              "      background-color: #E8F0FE;\n",
              "      border: none;\n",
              "      border-radius: 50%;\n",
              "      cursor: pointer;\n",
              "      display: none;\n",
              "      fill: #1967D2;\n",
              "      height: 32px;\n",
              "      padding: 0 0 0 0;\n",
              "      width: 32px;\n",
              "    }\n",
              "\n",
              "    .colab-df-convert:hover {\n",
              "      background-color: #E2EBFA;\n",
              "      box-shadow: 0px 1px 2px rgba(60, 64, 67, 0.3), 0px 1px 3px 1px rgba(60, 64, 67, 0.15);\n",
              "      fill: #174EA6;\n",
              "    }\n",
              "\n",
              "    .colab-df-buttons div {\n",
              "      margin-bottom: 4px;\n",
              "    }\n",
              "\n",
              "    [theme=dark] .colab-df-convert {\n",
              "      background-color: #3B4455;\n",
              "      fill: #D2E3FC;\n",
              "    }\n",
              "\n",
              "    [theme=dark] .colab-df-convert:hover {\n",
              "      background-color: #434B5C;\n",
              "      box-shadow: 0px 1px 3px 1px rgba(0, 0, 0, 0.15);\n",
              "      filter: drop-shadow(0px 1px 2px rgba(0, 0, 0, 0.3));\n",
              "      fill: #FFFFFF;\n",
              "    }\n",
              "  </style>\n",
              "\n",
              "    <script>\n",
              "      const buttonEl =\n",
              "        document.querySelector('#df-38aabde1-33d5-4c48-bd6d-05353b1a5117 button.colab-df-convert');\n",
              "      buttonEl.style.display =\n",
              "        google.colab.kernel.accessAllowed ? 'block' : 'none';\n",
              "\n",
              "      async function convertToInteractive(key) {\n",
              "        const element = document.querySelector('#df-38aabde1-33d5-4c48-bd6d-05353b1a5117');\n",
              "        const dataTable =\n",
              "          await google.colab.kernel.invokeFunction('convertToInteractive',\n",
              "                                                    [key], {});\n",
              "        if (!dataTable) return;\n",
              "\n",
              "        const docLinkHtml = 'Like what you see? Visit the ' +\n",
              "          '<a target=\"_blank\" href=https://colab.research.google.com/notebooks/data_table.ipynb>data table notebook</a>'\n",
              "          + ' to learn more about interactive tables.';\n",
              "        element.innerHTML = '';\n",
              "        dataTable['output_type'] = 'display_data';\n",
              "        await google.colab.output.renderOutput(dataTable, element);\n",
              "        const docLink = document.createElement('div');\n",
              "        docLink.innerHTML = docLinkHtml;\n",
              "        element.appendChild(docLink);\n",
              "      }\n",
              "    </script>\n",
              "  </div>\n",
              "\n",
              "\n",
              "<div id=\"df-88c96347-889d-4a3a-97e2-d3ac9059815c\">\n",
              "  <button class=\"colab-df-quickchart\" onclick=\"quickchart('df-88c96347-889d-4a3a-97e2-d3ac9059815c')\"\n",
              "            title=\"Suggest charts\"\n",
              "            style=\"display:none;\">\n",
              "\n",
              "<svg xmlns=\"http://www.w3.org/2000/svg\" height=\"24px\"viewBox=\"0 0 24 24\"\n",
              "     width=\"24px\">\n",
              "    <g>\n",
              "        <path d=\"M19 3H5c-1.1 0-2 .9-2 2v14c0 1.1.9 2 2 2h14c1.1 0 2-.9 2-2V5c0-1.1-.9-2-2-2zM9 17H7v-7h2v7zm4 0h-2V7h2v10zm4 0h-2v-4h2v4z\"/>\n",
              "    </g>\n",
              "</svg>\n",
              "  </button>\n",
              "\n",
              "<style>\n",
              "  .colab-df-quickchart {\n",
              "      --bg-color: #E8F0FE;\n",
              "      --fill-color: #1967D2;\n",
              "      --hover-bg-color: #E2EBFA;\n",
              "      --hover-fill-color: #174EA6;\n",
              "      --disabled-fill-color: #AAA;\n",
              "      --disabled-bg-color: #DDD;\n",
              "  }\n",
              "\n",
              "  [theme=dark] .colab-df-quickchart {\n",
              "      --bg-color: #3B4455;\n",
              "      --fill-color: #D2E3FC;\n",
              "      --hover-bg-color: #434B5C;\n",
              "      --hover-fill-color: #FFFFFF;\n",
              "      --disabled-bg-color: #3B4455;\n",
              "      --disabled-fill-color: #666;\n",
              "  }\n",
              "\n",
              "  .colab-df-quickchart {\n",
              "    background-color: var(--bg-color);\n",
              "    border: none;\n",
              "    border-radius: 50%;\n",
              "    cursor: pointer;\n",
              "    display: none;\n",
              "    fill: var(--fill-color);\n",
              "    height: 32px;\n",
              "    padding: 0;\n",
              "    width: 32px;\n",
              "  }\n",
              "\n",
              "  .colab-df-quickchart:hover {\n",
              "    background-color: var(--hover-bg-color);\n",
              "    box-shadow: 0 1px 2px rgba(60, 64, 67, 0.3), 0 1px 3px 1px rgba(60, 64, 67, 0.15);\n",
              "    fill: var(--button-hover-fill-color);\n",
              "  }\n",
              "\n",
              "  .colab-df-quickchart-complete:disabled,\n",
              "  .colab-df-quickchart-complete:disabled:hover {\n",
              "    background-color: var(--disabled-bg-color);\n",
              "    fill: var(--disabled-fill-color);\n",
              "    box-shadow: none;\n",
              "  }\n",
              "\n",
              "  .colab-df-spinner {\n",
              "    border: 2px solid var(--fill-color);\n",
              "    border-color: transparent;\n",
              "    border-bottom-color: var(--fill-color);\n",
              "    animation:\n",
              "      spin 1s steps(1) infinite;\n",
              "  }\n",
              "\n",
              "  @keyframes spin {\n",
              "    0% {\n",
              "      border-color: transparent;\n",
              "      border-bottom-color: var(--fill-color);\n",
              "      border-left-color: var(--fill-color);\n",
              "    }\n",
              "    20% {\n",
              "      border-color: transparent;\n",
              "      border-left-color: var(--fill-color);\n",
              "      border-top-color: var(--fill-color);\n",
              "    }\n",
              "    30% {\n",
              "      border-color: transparent;\n",
              "      border-left-color: var(--fill-color);\n",
              "      border-top-color: var(--fill-color);\n",
              "      border-right-color: var(--fill-color);\n",
              "    }\n",
              "    40% {\n",
              "      border-color: transparent;\n",
              "      border-right-color: var(--fill-color);\n",
              "      border-top-color: var(--fill-color);\n",
              "    }\n",
              "    60% {\n",
              "      border-color: transparent;\n",
              "      border-right-color: var(--fill-color);\n",
              "    }\n",
              "    80% {\n",
              "      border-color: transparent;\n",
              "      border-right-color: var(--fill-color);\n",
              "      border-bottom-color: var(--fill-color);\n",
              "    }\n",
              "    90% {\n",
              "      border-color: transparent;\n",
              "      border-bottom-color: var(--fill-color);\n",
              "    }\n",
              "  }\n",
              "</style>\n",
              "\n",
              "  <script>\n",
              "    async function quickchart(key) {\n",
              "      const quickchartButtonEl =\n",
              "        document.querySelector('#' + key + ' button');\n",
              "      quickchartButtonEl.disabled = true;  // To prevent multiple clicks.\n",
              "      quickchartButtonEl.classList.add('colab-df-spinner');\n",
              "      try {\n",
              "        const charts = await google.colab.kernel.invokeFunction(\n",
              "            'suggestCharts', [key], {});\n",
              "      } catch (error) {\n",
              "        console.error('Error during call to suggestCharts:', error);\n",
              "      }\n",
              "      quickchartButtonEl.classList.remove('colab-df-spinner');\n",
              "      quickchartButtonEl.classList.add('colab-df-quickchart-complete');\n",
              "    }\n",
              "    (() => {\n",
              "      let quickchartButtonEl =\n",
              "        document.querySelector('#df-88c96347-889d-4a3a-97e2-d3ac9059815c button');\n",
              "      quickchartButtonEl.style.display =\n",
              "        google.colab.kernel.accessAllowed ? 'block' : 'none';\n",
              "    })();\n",
              "  </script>\n",
              "</div>\n",
              "\n",
              "    </div>\n",
              "  </div>\n"
            ],
            "application/vnd.google.colaboratory.intrinsic+json": {
              "type": "dataframe",
              "summary": "{\n  \"name\": \"df\",\n  \"rows\": 10,\n  \"fields\": [\n    {\n      \"column\": \"Age\",\n      \"properties\": {\n        \"dtype\": \"number\",\n        \"std\": 3,\n        \"min\": 25,\n        \"max\": 35,\n        \"num_unique_values\": 10,\n        \"samples\": [\n          33,\n          26,\n          30\n        ],\n        \"semantic_type\": \"\",\n        \"description\": \"\"\n      }\n    },\n    {\n      \"column\": \"Name\",\n      \"properties\": {\n        \"dtype\": \"number\",\n        \"std\": 0,\n        \"min\": 1,\n        \"max\": 1,\n        \"num_unique_values\": 1,\n        \"samples\": [\n          1\n        ],\n        \"semantic_type\": \"\",\n        \"description\": \"\"\n      }\n    },\n    {\n      \"column\": \"City\",\n      \"properties\": {\n        \"dtype\": \"number\",\n        \"std\": 0,\n        \"min\": 1,\n        \"max\": 1,\n        \"num_unique_values\": 1,\n        \"samples\": [\n          1\n        ],\n        \"semantic_type\": \"\",\n        \"description\": \"\"\n      }\n    }\n  ]\n}"
            }
          },
          "metadata": {},
          "execution_count": 25
        }
      ]
    },
    {
      "cell_type": "code",
      "source": [
        "df.groupby(\"Age\").Name.nunique()\n"
      ],
      "metadata": {
        "colab": {
          "base_uri": "https://localhost:8080/"
        },
        "id": "YdSRKP3danRU",
        "outputId": "ffb1f530-8476-4992-d9e9-b0583d717b12"
      },
      "execution_count": 26,
      "outputs": [
        {
          "output_type": "execute_result",
          "data": {
            "text/plain": [
              "Age\n",
              "25    1\n",
              "26    1\n",
              "27    1\n",
              "28    1\n",
              "29    1\n",
              "30    1\n",
              "31    1\n",
              "32    1\n",
              "33    1\n",
              "35    1\n",
              "Name: Name, dtype: int64"
            ]
          },
          "metadata": {},
          "execution_count": 26
        }
      ]
    },
    {
      "cell_type": "code",
      "source": [
        "data = {'state':[\"CA\",\"CA\",\"TX\",\"NC\", \"SC\"],'deaths':[6,11,4,5,9]}\n",
        "df = pd.DataFrame(data)\n",
        "# how many unique death counts are under each of the state\n",
        "df2 = df.groupby('state')['deaths'] \\\n",
        "        .nunique() \\\n",
        "        .to_frame('deaths') \\\n",
        "        .reset_index()\n",
        "df2.head(10)"
      ],
      "metadata": {
        "id": "hEW7XG-BbLI2",
        "colab": {
          "base_uri": "https://localhost:8080/",
          "height": 175
        },
        "outputId": "a2bab762-f710-4f62-b129-972a367e5309"
      },
      "execution_count": 27,
      "outputs": [
        {
          "output_type": "execute_result",
          "data": {
            "text/plain": [
              "  state  deaths\n",
              "0    CA       2\n",
              "1    NC       1\n",
              "2    SC       1\n",
              "3    TX       1"
            ],
            "text/html": [
              "\n",
              "  <div id=\"df-da126b1c-18bc-4f0e-a7aa-8753e08c703b\" class=\"colab-df-container\">\n",
              "    <div>\n",
              "<style scoped>\n",
              "    .dataframe tbody tr th:only-of-type {\n",
              "        vertical-align: middle;\n",
              "    }\n",
              "\n",
              "    .dataframe tbody tr th {\n",
              "        vertical-align: top;\n",
              "    }\n",
              "\n",
              "    .dataframe thead th {\n",
              "        text-align: right;\n",
              "    }\n",
              "</style>\n",
              "<table border=\"1\" class=\"dataframe\">\n",
              "  <thead>\n",
              "    <tr style=\"text-align: right;\">\n",
              "      <th></th>\n",
              "      <th>state</th>\n",
              "      <th>deaths</th>\n",
              "    </tr>\n",
              "  </thead>\n",
              "  <tbody>\n",
              "    <tr>\n",
              "      <th>0</th>\n",
              "      <td>CA</td>\n",
              "      <td>2</td>\n",
              "    </tr>\n",
              "    <tr>\n",
              "      <th>1</th>\n",
              "      <td>NC</td>\n",
              "      <td>1</td>\n",
              "    </tr>\n",
              "    <tr>\n",
              "      <th>2</th>\n",
              "      <td>SC</td>\n",
              "      <td>1</td>\n",
              "    </tr>\n",
              "    <tr>\n",
              "      <th>3</th>\n",
              "      <td>TX</td>\n",
              "      <td>1</td>\n",
              "    </tr>\n",
              "  </tbody>\n",
              "</table>\n",
              "</div>\n",
              "    <div class=\"colab-df-buttons\">\n",
              "\n",
              "  <div class=\"colab-df-container\">\n",
              "    <button class=\"colab-df-convert\" onclick=\"convertToInteractive('df-da126b1c-18bc-4f0e-a7aa-8753e08c703b')\"\n",
              "            title=\"Convert this dataframe to an interactive table.\"\n",
              "            style=\"display:none;\">\n",
              "\n",
              "  <svg xmlns=\"http://www.w3.org/2000/svg\" height=\"24px\" viewBox=\"0 -960 960 960\">\n",
              "    <path d=\"M120-120v-720h720v720H120Zm60-500h600v-160H180v160Zm220 220h160v-160H400v160Zm0 220h160v-160H400v160ZM180-400h160v-160H180v160Zm440 0h160v-160H620v160ZM180-180h160v-160H180v160Zm440 0h160v-160H620v160Z\"/>\n",
              "  </svg>\n",
              "    </button>\n",
              "\n",
              "  <style>\n",
              "    .colab-df-container {\n",
              "      display:flex;\n",
              "      gap: 12px;\n",
              "    }\n",
              "\n",
              "    .colab-df-convert {\n",
              "      background-color: #E8F0FE;\n",
              "      border: none;\n",
              "      border-radius: 50%;\n",
              "      cursor: pointer;\n",
              "      display: none;\n",
              "      fill: #1967D2;\n",
              "      height: 32px;\n",
              "      padding: 0 0 0 0;\n",
              "      width: 32px;\n",
              "    }\n",
              "\n",
              "    .colab-df-convert:hover {\n",
              "      background-color: #E2EBFA;\n",
              "      box-shadow: 0px 1px 2px rgba(60, 64, 67, 0.3), 0px 1px 3px 1px rgba(60, 64, 67, 0.15);\n",
              "      fill: #174EA6;\n",
              "    }\n",
              "\n",
              "    .colab-df-buttons div {\n",
              "      margin-bottom: 4px;\n",
              "    }\n",
              "\n",
              "    [theme=dark] .colab-df-convert {\n",
              "      background-color: #3B4455;\n",
              "      fill: #D2E3FC;\n",
              "    }\n",
              "\n",
              "    [theme=dark] .colab-df-convert:hover {\n",
              "      background-color: #434B5C;\n",
              "      box-shadow: 0px 1px 3px 1px rgba(0, 0, 0, 0.15);\n",
              "      filter: drop-shadow(0px 1px 2px rgba(0, 0, 0, 0.3));\n",
              "      fill: #FFFFFF;\n",
              "    }\n",
              "  </style>\n",
              "\n",
              "    <script>\n",
              "      const buttonEl =\n",
              "        document.querySelector('#df-da126b1c-18bc-4f0e-a7aa-8753e08c703b button.colab-df-convert');\n",
              "      buttonEl.style.display =\n",
              "        google.colab.kernel.accessAllowed ? 'block' : 'none';\n",
              "\n",
              "      async function convertToInteractive(key) {\n",
              "        const element = document.querySelector('#df-da126b1c-18bc-4f0e-a7aa-8753e08c703b');\n",
              "        const dataTable =\n",
              "          await google.colab.kernel.invokeFunction('convertToInteractive',\n",
              "                                                    [key], {});\n",
              "        if (!dataTable) return;\n",
              "\n",
              "        const docLinkHtml = 'Like what you see? Visit the ' +\n",
              "          '<a target=\"_blank\" href=https://colab.research.google.com/notebooks/data_table.ipynb>data table notebook</a>'\n",
              "          + ' to learn more about interactive tables.';\n",
              "        element.innerHTML = '';\n",
              "        dataTable['output_type'] = 'display_data';\n",
              "        await google.colab.output.renderOutput(dataTable, element);\n",
              "        const docLink = document.createElement('div');\n",
              "        docLink.innerHTML = docLinkHtml;\n",
              "        element.appendChild(docLink);\n",
              "      }\n",
              "    </script>\n",
              "  </div>\n",
              "\n",
              "\n",
              "<div id=\"df-a5acd594-75ea-4fd0-8eb8-9cc739bedd92\">\n",
              "  <button class=\"colab-df-quickchart\" onclick=\"quickchart('df-a5acd594-75ea-4fd0-8eb8-9cc739bedd92')\"\n",
              "            title=\"Suggest charts\"\n",
              "            style=\"display:none;\">\n",
              "\n",
              "<svg xmlns=\"http://www.w3.org/2000/svg\" height=\"24px\"viewBox=\"0 0 24 24\"\n",
              "     width=\"24px\">\n",
              "    <g>\n",
              "        <path d=\"M19 3H5c-1.1 0-2 .9-2 2v14c0 1.1.9 2 2 2h14c1.1 0 2-.9 2-2V5c0-1.1-.9-2-2-2zM9 17H7v-7h2v7zm4 0h-2V7h2v10zm4 0h-2v-4h2v4z\"/>\n",
              "    </g>\n",
              "</svg>\n",
              "  </button>\n",
              "\n",
              "<style>\n",
              "  .colab-df-quickchart {\n",
              "      --bg-color: #E8F0FE;\n",
              "      --fill-color: #1967D2;\n",
              "      --hover-bg-color: #E2EBFA;\n",
              "      --hover-fill-color: #174EA6;\n",
              "      --disabled-fill-color: #AAA;\n",
              "      --disabled-bg-color: #DDD;\n",
              "  }\n",
              "\n",
              "  [theme=dark] .colab-df-quickchart {\n",
              "      --bg-color: #3B4455;\n",
              "      --fill-color: #D2E3FC;\n",
              "      --hover-bg-color: #434B5C;\n",
              "      --hover-fill-color: #FFFFFF;\n",
              "      --disabled-bg-color: #3B4455;\n",
              "      --disabled-fill-color: #666;\n",
              "  }\n",
              "\n",
              "  .colab-df-quickchart {\n",
              "    background-color: var(--bg-color);\n",
              "    border: none;\n",
              "    border-radius: 50%;\n",
              "    cursor: pointer;\n",
              "    display: none;\n",
              "    fill: var(--fill-color);\n",
              "    height: 32px;\n",
              "    padding: 0;\n",
              "    width: 32px;\n",
              "  }\n",
              "\n",
              "  .colab-df-quickchart:hover {\n",
              "    background-color: var(--hover-bg-color);\n",
              "    box-shadow: 0 1px 2px rgba(60, 64, 67, 0.3), 0 1px 3px 1px rgba(60, 64, 67, 0.15);\n",
              "    fill: var(--button-hover-fill-color);\n",
              "  }\n",
              "\n",
              "  .colab-df-quickchart-complete:disabled,\n",
              "  .colab-df-quickchart-complete:disabled:hover {\n",
              "    background-color: var(--disabled-bg-color);\n",
              "    fill: var(--disabled-fill-color);\n",
              "    box-shadow: none;\n",
              "  }\n",
              "\n",
              "  .colab-df-spinner {\n",
              "    border: 2px solid var(--fill-color);\n",
              "    border-color: transparent;\n",
              "    border-bottom-color: var(--fill-color);\n",
              "    animation:\n",
              "      spin 1s steps(1) infinite;\n",
              "  }\n",
              "\n",
              "  @keyframes spin {\n",
              "    0% {\n",
              "      border-color: transparent;\n",
              "      border-bottom-color: var(--fill-color);\n",
              "      border-left-color: var(--fill-color);\n",
              "    }\n",
              "    20% {\n",
              "      border-color: transparent;\n",
              "      border-left-color: var(--fill-color);\n",
              "      border-top-color: var(--fill-color);\n",
              "    }\n",
              "    30% {\n",
              "      border-color: transparent;\n",
              "      border-left-color: var(--fill-color);\n",
              "      border-top-color: var(--fill-color);\n",
              "      border-right-color: var(--fill-color);\n",
              "    }\n",
              "    40% {\n",
              "      border-color: transparent;\n",
              "      border-right-color: var(--fill-color);\n",
              "      border-top-color: var(--fill-color);\n",
              "    }\n",
              "    60% {\n",
              "      border-color: transparent;\n",
              "      border-right-color: var(--fill-color);\n",
              "    }\n",
              "    80% {\n",
              "      border-color: transparent;\n",
              "      border-right-color: var(--fill-color);\n",
              "      border-bottom-color: var(--fill-color);\n",
              "    }\n",
              "    90% {\n",
              "      border-color: transparent;\n",
              "      border-bottom-color: var(--fill-color);\n",
              "    }\n",
              "  }\n",
              "</style>\n",
              "\n",
              "  <script>\n",
              "    async function quickchart(key) {\n",
              "      const quickchartButtonEl =\n",
              "        document.querySelector('#' + key + ' button');\n",
              "      quickchartButtonEl.disabled = true;  // To prevent multiple clicks.\n",
              "      quickchartButtonEl.classList.add('colab-df-spinner');\n",
              "      try {\n",
              "        const charts = await google.colab.kernel.invokeFunction(\n",
              "            'suggestCharts', [key], {});\n",
              "      } catch (error) {\n",
              "        console.error('Error during call to suggestCharts:', error);\n",
              "      }\n",
              "      quickchartButtonEl.classList.remove('colab-df-spinner');\n",
              "      quickchartButtonEl.classList.add('colab-df-quickchart-complete');\n",
              "    }\n",
              "    (() => {\n",
              "      let quickchartButtonEl =\n",
              "        document.querySelector('#df-a5acd594-75ea-4fd0-8eb8-9cc739bedd92 button');\n",
              "      quickchartButtonEl.style.display =\n",
              "        google.colab.kernel.accessAllowed ? 'block' : 'none';\n",
              "    })();\n",
              "  </script>\n",
              "</div>\n",
              "\n",
              "    </div>\n",
              "  </div>\n"
            ],
            "application/vnd.google.colaboratory.intrinsic+json": {
              "type": "dataframe",
              "variable_name": "df2",
              "summary": "{\n  \"name\": \"df2\",\n  \"rows\": 4,\n  \"fields\": [\n    {\n      \"column\": \"state\",\n      \"properties\": {\n        \"dtype\": \"string\",\n        \"num_unique_values\": 4,\n        \"samples\": [\n          \"NC\",\n          \"TX\",\n          \"CA\"\n        ],\n        \"semantic_type\": \"\",\n        \"description\": \"\"\n      }\n    },\n    {\n      \"column\": \"deaths\",\n      \"properties\": {\n        \"dtype\": \"number\",\n        \"std\": 0,\n        \"min\": 1,\n        \"max\": 2,\n        \"num_unique_values\": 2,\n        \"samples\": [\n          1,\n          2\n        ],\n        \"semantic_type\": \"\",\n        \"description\": \"\"\n      }\n    }\n  ]\n}"
            }
          },
          "metadata": {},
          "execution_count": 27
        }
      ]
    },
    {
      "cell_type": "code",
      "source": [
        "# input file\n",
        "file_name = '/content/openpowerlifting.csv'\n",
        "# read csv file\n",
        "df_in_power = pd.read_csv(file_name)\n",
        "# men only\n",
        "df_state_male = df_in_power.loc[df_in_power['Sex'] == \"M\"]\\\n",
        "                .groupby(['State'])\\\n",
        "                .size()\\\n",
        "                .to_frame('count')\\\n",
        "                .reset_index()\n",
        "# sort by count\n",
        "df_sorted = df_state_male\\\n",
        "                .sort_values(by=['count'], ascending=False)\n",
        "print(df_in_power)\n",
        "print(df_state_male)\n",
        "print(df_sorted)"
      ],
      "metadata": {
        "id": "r0yhuoGCbyms",
        "colab": {
          "base_uri": "https://localhost:8080/"
        },
        "outputId": "3cedc6d2-0a5f-41c0-a20b-c1c67c9dc07a"
      },
      "execution_count": 52,
      "outputs": [
        {
          "output_type": "stream",
          "name": "stdout",
          "text": [
            "           Name Sex State  Age  WeightClassKg  BestSquatKg  BestBenchKg  \\\n",
            "0      John Doe   M    NY   30            105          150          100   \n",
            "1    Jane Smith   F    CA   25             65           80           70   \n",
            "2  Mike Johnson   M    TX   35             90          200          150   \n",
            "3   Alice Brown   F    FL   28             75           95           80   \n",
            "4     Chris Lee   M    CA   32            100          180          120   \n",
            "5    Sara White   F    NY   29             70           85           75   \n",
            "\n",
            "   BestDeadliftKg  TotalKg  \n",
            "0             200      450  \n",
            "1             120      270  \n",
            "2             250      600  \n",
            "3             140      315  \n",
            "4             220      520  \n",
            "5             130      290  \n",
            "  State  count\n",
            "0    CA      1\n",
            "1    NY      1\n",
            "2    TX      1\n",
            "  State  count\n",
            "0    CA      1\n",
            "1    NY      1\n",
            "2    TX      1\n"
          ]
        }
      ]
    },
    {
      "cell_type": "code",
      "source": [
        "# write in current folder\n",
        "df.to_csv ('./out.csv', index = None, header=True)\n"
      ],
      "metadata": {
        "id": "O_QolypqcvHE"
      },
      "execution_count": 53,
      "outputs": []
    },
    {
      "cell_type": "code",
      "source": [
        "# create data frame\n",
        "df = pd.DataFrame({\"date\": [\"2018-09-24\"], \"ret\":[0.00013123989025119056]})\n",
        "# write to csv\n",
        "df.to_csv(\"out.csv\", sep=',', escapechar='\\\\', quoting=csv.QUOTE_ALL, index=None)\n"
      ],
      "metadata": {
        "id": "3Q5E0dtSh491"
      },
      "execution_count": 54,
      "outputs": []
    },
    {
      "cell_type": "code",
      "source": [
        "df.to_csv('out.csv',sep=' ', quoting=csv.QUOTE_NONE)\n"
      ],
      "metadata": {
        "id": "jSJ6RIhjilt1"
      },
      "execution_count": 55,
      "outputs": []
    },
    {
      "cell_type": "code",
      "source": [
        "num_person = 10\n",
        "print(f\"Type of num_person: {type(num_person)}\")\n",
        "\n"
      ],
      "metadata": {
        "colab": {
          "base_uri": "https://localhost:8080/"
        },
        "id": "-stOTrSjmvNV",
        "outputId": "a95343ba-a092-4f96-92d2-f2e85b8dbcd2"
      },
      "execution_count": 56,
      "outputs": [
        {
          "output_type": "stream",
          "name": "stdout",
          "text": [
            "Type of num_person: <class 'int'>\n"
          ]
        }
      ]
    },
    {
      "cell_type": "code",
      "source": [
        "# let's say that df has col_1, col_2, and col_3, but you want only first two columns only\n",
        "df = df_in_power\n",
        "\n",
        "df_new = df[[\"Age\", \"WeightClassKg\"]]\n",
        "print(df_new)\n",
        "\n"
      ],
      "metadata": {
        "colab": {
          "base_uri": "https://localhost:8080/"
        },
        "id": "Zt9KoT6anJ1f",
        "outputId": "84ae10d3-ce8b-4b37-d891-1308b796862c"
      },
      "execution_count": 57,
      "outputs": [
        {
          "output_type": "stream",
          "name": "stdout",
          "text": [
            "   Age  WeightClassKg\n",
            "0   30            105\n",
            "1   25             65\n",
            "2   35             90\n",
            "3   28             75\n",
            "4   32            100\n",
            "5   29             70\n"
          ]
        }
      ]
    },
    {
      "cell_type": "code",
      "source": [
        "max_age = df[\"Age\"].max()\n",
        "max_weight = df[\"WeightClassKg\"].max()\n",
        "\n",
        "print(f\"Max age: {max_age}\")\n",
        "print(f\"Max weight: {max_weight}\")"
      ],
      "metadata": {
        "colab": {
          "base_uri": "https://localhost:8080/"
        },
        "id": "AQIAbKz0nNfD",
        "outputId": "34855de1-092a-45a2-90b3-849f23029218"
      },
      "execution_count": 58,
      "outputs": [
        {
          "output_type": "stream",
          "name": "stdout",
          "text": [
            "Max age: 35\n",
            "Max weight: 105\n"
          ]
        }
      ]
    },
    {
      "cell_type": "code",
      "source": [
        "df_grouped = df.groupby(\"Age\").size().to_frame(\"count\").reset_index()\n",
        "\n",
        "print(df_grouped)\n"
      ],
      "metadata": {
        "id": "wtUASrFlomhT",
        "colab": {
          "base_uri": "https://localhost:8080/"
        },
        "outputId": "70933d6e-6e52-4c20-a2df-6f1ac330d494"
      },
      "execution_count": 59,
      "outputs": [
        {
          "output_type": "stream",
          "name": "stdout",
          "text": [
            "   Age  count\n",
            "0   25      1\n",
            "1   28      1\n",
            "2   29      1\n",
            "3   30      1\n",
            "4   32      1\n",
            "5   35      1\n"
          ]
        }
      ]
    },
    {
      "cell_type": "code",
      "source": [
        "import pandas as pd\n",
        "\n",
        "# Example DataFrame\n",
        "data = {\n",
        "    \"age_range\": [\"Young\", \"Young\", \"Middle\", \"Middle\", \"Middle\", \"Old\"],\n",
        "    \"department\": [\"HR\", \"IT\", \"HR\", \"Finance\", \"IT\", \"Finance\"],\n",
        "    \"class\": [\"A\", \"B\", \"A\", \"B\", \"C\", \"A\"],\n",
        "    \"salary\": [50000, 60000, 70000, 80000, 55000, 75000],\n",
        "    \"years_experience\": [3, 5, 8, 10, 6, 12]\n",
        "}\n",
        "\n",
        "df = pd.DataFrame(data)\n",
        "\n",
        "# Calculating mean salary by age_range\n",
        "mean_salary_by_age = df.groupby(\"age_range\")[\"salary\"].mean()\n",
        "print(\"Mean salary by age range:\")\n",
        "print(mean_salary_by_age)\n",
        "print()\n",
        "\n",
        "# Summing salaries by department\n",
        "total_salary_by_dept = df.groupby(\"department\")[\"salary\"].sum()\n",
        "print(\"Total salary by department:\")\n",
        "print(total_salary_by_dept)\n",
        "print()\n",
        "\n",
        "# Counting number of employees in each class\n",
        "count_by_class = df.groupby(\"class\").size()\n",
        "print(\"Number of employees in each class:\")\n",
        "print(count_by_class)\n"
      ],
      "metadata": {
        "id": "ElUwYFc_qDuj",
        "colab": {
          "base_uri": "https://localhost:8080/"
        },
        "outputId": "f096979d-3064-45f7-9518-1c4b2f33f49c"
      },
      "execution_count": 60,
      "outputs": [
        {
          "output_type": "stream",
          "name": "stdout",
          "text": [
            "Mean salary by age range:\n",
            "age_range\n",
            "Middle    68333.333333\n",
            "Old       75000.000000\n",
            "Young     55000.000000\n",
            "Name: salary, dtype: float64\n",
            "\n",
            "Total salary by department:\n",
            "department\n",
            "Finance    155000\n",
            "HR         120000\n",
            "IT         115000\n",
            "Name: salary, dtype: int64\n",
            "\n",
            "Number of employees in each class:\n",
            "class\n",
            "A    3\n",
            "B    2\n",
            "C    1\n",
            "dtype: int64\n"
          ]
        }
      ]
    },
    {
      "cell_type": "code",
      "source": [
        "data = {\n",
        "    \"state\": [\"CA\", \"CA\", \"NY\", \"NY\", \"TX\", \"TX\"],\n",
        "    \"num_vacc\": [100, 120, 80, 90, 110, 130]\n",
        "}\n",
        "\n",
        "df = pd.DataFrame(data)\n",
        "\n",
        "# Group by \"state\" and calculate mean of \"num_vacc\", then reset index\n",
        "df_new = df.groupby(\"state\")[\"num_vacc\"].mean().to_frame(\"count\").reset_index()\n",
        "\n",
        "print(df_new)"
      ],
      "metadata": {
        "id": "jEuYSjKwTMDo",
        "colab": {
          "base_uri": "https://localhost:8080/"
        },
        "outputId": "2b7e1f5e-c2b5-4147-810d-7dacd510b920"
      },
      "execution_count": 61,
      "outputs": [
        {
          "output_type": "stream",
          "name": "stdout",
          "text": [
            "  state  count\n",
            "0    CA  110.0\n",
            "1    NY   85.0\n",
            "2    TX  120.0\n"
          ]
        }
      ]
    },
    {
      "cell_type": "code",
      "source": [
        "import pandas as pd\n",
        "\n",
        "# Example DataFrame\n",
        "data = {\n",
        "    \"source\": [\"Twitter\", \"Twitter\", \"Facebook\", \"Instagram\", \"Instagram\", \"Facebook\"],\n",
        "    \"text\": [\"Hello\", \"World\", \"Post\", \"Photo\", \"Video\", \"Like\"],\n",
        "    \"sent\": [0.5, 0.7, 0.6, 0.8, 0.4, 0.9]\n",
        "}\n",
        "\n",
        "df = pd.DataFrame(data)\n",
        "\n",
        "# Group by \"source\", aggregate \"text\" (count) and \"sent\" (mean), rename columns, and reset index\n",
        "df = df.groupby('source') \\\n",
        "       .agg({'text':'size', 'sent':'mean'}) \\\n",
        "       .rename(columns={'text':'count','sent':'mean_sent'}) \\\n",
        "       .reset_index()\n",
        "\n",
        "print(df)\n"
      ],
      "metadata": {
        "colab": {
          "base_uri": "https://localhost:8080/"
        },
        "id": "lCQT9FM0ToDS",
        "outputId": "ef775704-e37c-440a-f047-5fff207bf105"
      },
      "execution_count": 62,
      "outputs": [
        {
          "output_type": "stream",
          "name": "stdout",
          "text": [
            "      source  count  mean_sent\n",
            "0   Facebook      2       0.75\n",
            "1  Instagram      2       0.60\n",
            "2    Twitter      2       0.60\n"
          ]
        }
      ]
    },
    {
      "cell_type": "code",
      "source": [
        "import pandas as pd\n",
        "\n",
        "# Example DataFrame\n",
        "data = {\n",
        "    \"source\": [\"Twitter\", \"Twitter\", \"Facebook\", \"Instagram\", \"Instagram\", \"Facebook\"],\n",
        "    \"text\": [\"Hello\", \"World\", \"Post\", \"Photo\", \"Video\", \"Like\"],\n",
        "    \"sent\": [0.5, 0.7, 0.6, 0.8, 0.4, 0.9]\n",
        "}\n",
        "\n",
        "df = pd.DataFrame(data)\n",
        "\n",
        "D = df.groupby('source')['sent'].agg(count='size', mean_sent='mean').reset_index()\n",
        "print(D)\n"
      ],
      "metadata": {
        "id": "DNvbK35RUJSj",
        "colab": {
          "base_uri": "https://localhost:8080/"
        },
        "outputId": "d35e51d5-38cb-4c0c-ebd8-be60f31e67af"
      },
      "execution_count": 63,
      "outputs": [
        {
          "output_type": "stream",
          "name": "stdout",
          "text": [
            "      source  count  mean_sent\n",
            "0   Facebook      2       0.75\n",
            "1  Instagram      2       0.60\n",
            "2    Twitter      2       0.60\n"
          ]
        }
      ]
    },
    {
      "cell_type": "code",
      "source": [
        "# this may also work\n",
        "D1 = df[['source','sent']].groupby('source').agg(['count','mean']).reset_index()\n",
        "print(D1)"
      ],
      "metadata": {
        "colab": {
          "base_uri": "https://localhost:8080/"
        },
        "id": "fPtQTPVTpHzO",
        "outputId": "68f1475c-cde4-48cb-e1c7-c58b6b89eb89"
      },
      "execution_count": 64,
      "outputs": [
        {
          "output_type": "stream",
          "name": "stdout",
          "text": [
            "      source  sent      \n",
            "             count  mean\n",
            "0   Facebook     2  0.75\n",
            "1  Instagram     2  0.60\n",
            "2    Twitter     2  0.60\n"
          ]
        }
      ]
    },
    {
      "cell_type": "code",
      "source": [
        "import pandas as pd\n",
        "data = {\n",
        "    \"id1\": [\"A\", \"A\", \"A\", \"B\", \"B\"],\n",
        "    \"id2\": [\"X\", \"X\", \"Y\", \"X\", \"Y\"],\n",
        "    \"id3\": [\"I\", \"I\", \"II\", \"I\", \"I\"],\n",
        "    \"col\": [1, 2, 3, 4, 5]\n",
        "}\n",
        "\n",
        "df = pd.DataFrame(data)\n",
        "df_agg = df.groupby([\"id1\", \"id2\", \"id3\"])\\\n",
        "        \t.agg({k: ['min', 'max'] for k in ['col']})\n",
        "df_agg.columns = df_agg.columns.map('_'.join)\n",
        "df_agg = df_agg.reset_index()\n",
        "\n",
        "print(df_agg)\n",
        "print(df_agg.columns)"
      ],
      "metadata": {
        "colab": {
          "base_uri": "https://localhost:8080/"
        },
        "id": "I5UI97pbpLWF",
        "outputId": "b0ae3d28-a045-4441-a8e2-6b653eb581a5"
      },
      "execution_count": 65,
      "outputs": [
        {
          "output_type": "stream",
          "name": "stdout",
          "text": [
            "  id1 id2 id3  col_min  col_max\n",
            "0   A   X   I        1        2\n",
            "1   A   Y  II        3        3\n",
            "2   B   X   I        4        4\n",
            "3   B   Y   I        5        5\n",
            "Index(['id1', 'id2', 'id3', 'col_min', 'col_max'], dtype='object')\n"
          ]
        }
      ]
    },
    {
      "cell_type": "code",
      "source": [
        "import pandas as pd\n",
        "\n",
        "# Example DataFrame\n",
        "data = {\n",
        "    'source': ['A', 'A', 'B', 'B', 'B'],\n",
        "    'sent1': [10, 20, 30, 40, None],  # Including None for illustration\n",
        "    'sent2': [1.5, 2.5, 3.5, 4.5, 5.5]\n",
        "}\n",
        "df = pd.DataFrame(data)\n",
        "\n",
        "# Grouping and Aggregating\n",
        "result = df.groupby('source').agg(count=('sent1', 'size'), means=('sent2', 'mean')).reset_index()\n",
        "\n",
        "print(result)\n"
      ],
      "metadata": {
        "colab": {
          "base_uri": "https://localhost:8080/"
        },
        "id": "xNGTRWdHsodT",
        "outputId": "951703a1-5f61-40c2-fde7-54c118e895a8"
      },
      "execution_count": 66,
      "outputs": [
        {
          "output_type": "stream",
          "name": "stdout",
          "text": [
            "  source  count  means\n",
            "0      A      2    2.0\n",
            "1      B      3    4.5\n"
          ]
        }
      ]
    },
    {
      "cell_type": "code",
      "source": [
        "import pandas as pd\n",
        "\n",
        "# Example DataFrame\n",
        "data = {\n",
        "    'A': [1, 2, 3, 4, 5, 6, 7, 8, 9, 10],\n",
        "    'B': ['a', 'b', 'c', 'd', 'e', 'f', 'g', 'h', 'i', 'j']\n",
        "}\n",
        "\n",
        "df = pd.DataFrame(data)\n",
        "\n",
        "# Selecting first 10 rows\n",
        "subset = df[:5]\n",
        "\n",
        "print(subset)\n"
      ],
      "metadata": {
        "colab": {
          "base_uri": "https://localhost:8080/"
        },
        "id": "goOokAywv9gM",
        "outputId": "86ef4863-82fa-4dd4-c60b-e36b8a416603"
      },
      "execution_count": 67,
      "outputs": [
        {
          "output_type": "stream",
          "name": "stdout",
          "text": [
            "   A  B\n",
            "0  1  a\n",
            "1  2  b\n",
            "2  3  c\n",
            "3  4  d\n",
            "4  5  e\n"
          ]
        }
      ]
    },
    {
      "cell_type": "code",
      "source": [
        "import pandas as pd\n",
        "import numpy as np\n",
        "\n",
        "# Example DataFrame\n",
        "data = {'A': [1, 2, np.nan, 4],\n",
        "        'B': ['foo', np.nan, 'bar', np.nan],\n",
        "        'C': [np.nan, 'qux', np.nan, 'baz']}\n",
        "df = pd.DataFrame(data)\n",
        "\n",
        "# Dropping rows with any NaN values\n",
        "df.dropna(inplace=True)\n",
        "\n",
        "print(df)\n"
      ],
      "metadata": {
        "id": "mxLrq-Y_wiPX",
        "colab": {
          "base_uri": "https://localhost:8080/"
        },
        "outputId": "d0e9e190-f277-4ae7-d727-a12144b4eae0"
      },
      "execution_count": 68,
      "outputs": [
        {
          "output_type": "stream",
          "name": "stdout",
          "text": [
            "Empty DataFrame\n",
            "Columns: [A, B, C]\n",
            "Index: []\n"
          ]
        }
      ]
    },
    {
      "cell_type": "code",
      "source": [
        "import pandas as pd\n",
        "import numpy as np\n",
        "\n",
        "# Example DataFrame\n",
        "data = {'A': [1, 2, np.nan, 4],\n",
        "        'B': ['foo', np.nan, 'bar', np.nan],\n",
        "        'C': [np.nan, 'qux', np.nan, 'baz']}\n",
        "df = pd.DataFrame(data)\n",
        "\n",
        "# Dropping rows with any NaN values\n",
        "df.dropna(subset=['A', 'B'], inplace=True)\n",
        "\n",
        "\n",
        "print(df)\n"
      ],
      "metadata": {
        "id": "ipz8I8TvJolb",
        "colab": {
          "base_uri": "https://localhost:8080/"
        },
        "outputId": "ef44cfac-4fbb-4abc-bd80-f0bfbcd72422"
      },
      "execution_count": 69,
      "outputs": [
        {
          "output_type": "stream",
          "name": "stdout",
          "text": [
            "     A    B    C\n",
            "0  1.0  foo  NaN\n"
          ]
        }
      ]
    },
    {
      "cell_type": "code",
      "source": [
        "\n",
        "df_new = df.dropna(axis='columns')\n",
        "print(df_new)"
      ],
      "metadata": {
        "id": "HBvDfsuUKVR9",
        "colab": {
          "base_uri": "https://localhost:8080/"
        },
        "outputId": "a8af3d1f-ed98-409b-b044-1ee8ed87033c"
      },
      "execution_count": 70,
      "outputs": [
        {
          "output_type": "stream",
          "name": "stdout",
          "text": [
            "     A    B\n",
            "0  1.0  foo\n"
          ]
        }
      ]
    },
    {
      "cell_type": "code",
      "source": [
        "data = {'A': [1, 2, np.nan, 4],\n",
        "        'B': ['foo', np.nan, np.nan, np.nan],\n",
        "        'C': [np.nan, 'qux', np.nan, 'baz']}\n",
        "df = pd.DataFrame(data)\n",
        "df_new = df.dropna(how='all')\n",
        "print(df_new)"
      ],
      "metadata": {
        "colab": {
          "base_uri": "https://localhost:8080/"
        },
        "id": "gOs77MIvLdhd",
        "outputId": "414a4641-9389-4e57-ae07-8be0ed7f377e"
      },
      "execution_count": 71,
      "outputs": [
        {
          "output_type": "stream",
          "name": "stdout",
          "text": [
            "     A    B    C\n",
            "0  1.0  foo  NaN\n",
            "1  2.0  NaN  qux\n",
            "3  4.0  NaN  baz\n"
          ]
        }
      ]
    },
    {
      "cell_type": "code",
      "source": [
        "import pandas as pd\n",
        "import numpy as np\n",
        "\n",
        "# Example DataFrame\n",
        "data = {'col_1': [1, np.nan, 3, 4],\n",
        "        'col_2': ['foo', 'bar', np.nan, 'baz'],\n",
        "        'col_3': [np.nan, 'qux', 'quux', np.nan]}\n",
        "df = pd.DataFrame(data)\n",
        "\n",
        "# Approach 1: Create a new DataFrame df_new\n",
        "df_new = df[df['col_1'].notnull()]\n",
        "\n",
        "# Approach 2: Modify original DataFrame df using dropna()\n",
        "df.dropna(subset=['col_1'], how='all', inplace=True)\n",
        "\n",
        "print(\"Approach 1 - df_new:\")\n",
        "print(df_new)\n",
        "print(\"\\nApproach 2 - df (modified in place):\")\n",
        "print(df)\n"
      ],
      "metadata": {
        "colab": {
          "base_uri": "https://localhost:8080/"
        },
        "id": "lHVQQwxVLvV7",
        "outputId": "024991d2-30a7-4e72-93cf-6d0f5009cfe5"
      },
      "execution_count": 72,
      "outputs": [
        {
          "output_type": "stream",
          "name": "stdout",
          "text": [
            "Approach 1 - df_new:\n",
            "   col_1 col_2 col_3\n",
            "0    1.0   foo   NaN\n",
            "2    3.0   NaN  quux\n",
            "3    4.0   baz   NaN\n",
            "\n",
            "Approach 2 - df (modified in place):\n",
            "   col_1 col_2 col_3\n",
            "0    1.0   foo   NaN\n",
            "2    3.0   NaN  quux\n",
            "3    4.0   baz   NaN\n"
          ]
        }
      ]
    },
    {
      "cell_type": "code",
      "source": [
        "import pandas as pd\n",
        "\n",
        "data = {\n",
        "    'col_name1': ['A', 'B', 'A', 'B', 'C'],\n",
        "    'col_name2': [1, 2, 1, 2, 3],\n",
        "    'col_name3': ['X', 'Y', 'X', 'Y', 'Z']\n",
        "}\n",
        "\n",
        "df = pd.DataFrame(data)\n",
        "print(\"Original DataFrame:\")\n",
        "print(df)\n",
        "\n",
        "df = df.drop_duplicates(['col_name1', 'col_name2', 'col_name3'], keep='last')\n",
        "print(\"\\nDataFrame after dropping duplicates:\")\n",
        "print(df)\n"
      ],
      "metadata": {
        "colab": {
          "base_uri": "https://localhost:8080/"
        },
        "id": "HnesWNFaOKGC",
        "outputId": "582b8a53-499f-4ccf-fa3b-8117009426cb"
      },
      "execution_count": 73,
      "outputs": [
        {
          "output_type": "stream",
          "name": "stdout",
          "text": [
            "Original DataFrame:\n",
            "  col_name1  col_name2 col_name3\n",
            "0         A          1         X\n",
            "1         B          2         Y\n",
            "2         A          1         X\n",
            "3         B          2         Y\n",
            "4         C          3         Z\n",
            "\n",
            "DataFrame after dropping duplicates:\n",
            "  col_name1  col_name2 col_name3\n",
            "2         A          1         X\n",
            "3         B          2         Y\n",
            "4         C          3         Z\n"
          ]
        }
      ]
    },
    {
      "cell_type": "code",
      "source": [
        "import pandas as pd\n",
        "\n",
        "# Example DataFrame\n",
        "data = {\n",
        "    'author_name': ['Alice', 'Bob', 'Charlie'],\n",
        "    'email': ['alice@example.com', 'bob@example.com', 'charlie@example.com']\n",
        "}\n",
        "\n",
        "df = pd.DataFrame(data)\n",
        "\n",
        "# Iterate through rows\n",
        "for index, row in df.iterrows():\n",
        "    curr_authorname = row['author_name']\n",
        "    curr_email = row['email']\n",
        "\n",
        "    # Do something with curr_authorname and curr_email\n",
        "    print(f\"Author: {curr_authorname}, Email: {curr_email}\")\n"
      ],
      "metadata": {
        "colab": {
          "base_uri": "https://localhost:8080/"
        },
        "id": "aNS3BF7zOxtm",
        "outputId": "27a8e07b-27ab-474a-9e71-c32b01b11f7d"
      },
      "execution_count": 74,
      "outputs": [
        {
          "output_type": "stream",
          "name": "stdout",
          "text": [
            "Author: Alice, Email: alice@example.com\n",
            "Author: Bob, Email: bob@example.com\n",
            "Author: Charlie, Email: charlie@example.com\n"
          ]
        }
      ]
    },
    {
      "cell_type": "code",
      "source": [
        "# Example: Creating a new column 'full_name'\n",
        "df['full_name'] = df['author_name'] + ' (' + df['email'] + ')'\n",
        "print(df)\n"
      ],
      "metadata": {
        "colab": {
          "base_uri": "https://localhost:8080/"
        },
        "id": "0xQpPhS0PU1t",
        "outputId": "80dd4f5c-816a-4be8-bb7e-3a32b9be1ed9"
      },
      "execution_count": 75,
      "outputs": [
        {
          "output_type": "stream",
          "name": "stdout",
          "text": [
            "  author_name                email                      full_name\n",
            "0       Alice    alice@example.com      Alice (alice@example.com)\n",
            "1         Bob      bob@example.com          Bob (bob@example.com)\n",
            "2     Charlie  charlie@example.com  Charlie (charlie@example.com)\n"
          ]
        }
      ]
    },
    {
      "cell_type": "code",
      "source": [
        "import pandas as pd\n",
        "\n",
        "# Sample data\n",
        "data = {\n",
        "    'states': ['California', 'Texas', 'New York', 'Florida'],\n",
        "    'count_column': [100, 150, 120, 80]\n",
        "}\n",
        "\n",
        "# Creating DataFrame\n",
        "df = pd.DataFrame(data)\n",
        "\n",
        "# Print the DataFrame\n",
        "print(df)\n",
        "\n",
        "# print  states as keys and count_column as values\n",
        "dict_stats_count = dict(zip(df['states'], df['count_column']))\n",
        "print(dict_stats_count)\n"
      ],
      "metadata": {
        "id": "Z3Fgsd09QMdD",
        "colab": {
          "base_uri": "https://localhost:8080/"
        },
        "outputId": "425ba49e-9696-4080-9890-c9d9f2ff06b6"
      },
      "execution_count": 76,
      "outputs": [
        {
          "output_type": "stream",
          "name": "stdout",
          "text": [
            "       states  count_column\n",
            "0  California           100\n",
            "1       Texas           150\n",
            "2    New York           120\n",
            "3     Florida            80\n",
            "{'California': 100, 'Texas': 150, 'New York': 120, 'Florida': 80}\n"
          ]
        }
      ]
    },
    {
      "cell_type": "code",
      "source": [
        "lst_pets = [['dog', 1], ['cat', 2], ['fish', 3]]\n",
        "df = pd.DataFrame(lst_pets, columns=['animal', 'amount'])\n",
        "\n",
        "print(df)"
      ],
      "metadata": {
        "colab": {
          "base_uri": "https://localhost:8080/"
        },
        "id": "QDIRTStNV9MU",
        "outputId": "20aca4cd-0d76-40ff-835a-0ed8371a37b4"
      },
      "execution_count": 77,
      "outputs": [
        {
          "output_type": "stream",
          "name": "stdout",
          "text": [
            "  animal  amount\n",
            "0    dog       1\n",
            "1    cat       2\n",
            "2   fish       3\n"
          ]
        }
      ]
    },
    {
      "cell_type": "code",
      "source": [
        "# Rename columns of a dataframe\n",
        "\n",
        "df.columns = [\"new_col1\", \"new_col2\"]\n",
        "\n",
        "print(df)"
      ],
      "metadata": {
        "colab": {
          "base_uri": "https://localhost:8080/"
        },
        "id": "IjO9GzstWUZ3",
        "outputId": "45120ce7-1050-4681-a0a1-3dd8a11d99e1"
      },
      "execution_count": 78,
      "outputs": [
        {
          "output_type": "stream",
          "name": "stdout",
          "text": [
            "  new_col1  new_col2\n",
            "0      dog         1\n",
            "1      cat         2\n",
            "2     fish         3\n"
          ]
        }
      ]
    },
    {
      "cell_type": "code",
      "source": [
        "# Sample DataFrame\n",
        "df = pd.DataFrame({\n",
        "    '$a': [1, 2, 3],\n",
        "    '$b': [4, 5, 6],\n",
        "    '$c': [7, 8, 9],\n",
        "    '$d': [10, 11, 12],\n",
        "    '$e': [13, 14, 15]\n",
        "})\n",
        "print(df)\n",
        "\n",
        "print(\"\\nRenamed dataframe\")\n",
        "old_names = ['$a', '$b', '$c', '$d', '$e']\n",
        "new_names = ['a', 'b', 'c', 'd', 'e']\n",
        "df.rename(columns=dict(zip(old_names, new_names)), inplace=True)\n",
        "\n",
        "print(df)"
      ],
      "metadata": {
        "colab": {
          "base_uri": "https://localhost:8080/"
        },
        "id": "Uzicrr7fXgqn",
        "outputId": "2234328c-b0a5-45ec-a818-af8c5cc6ecd9"
      },
      "execution_count": 79,
      "outputs": [
        {
          "output_type": "stream",
          "name": "stdout",
          "text": [
            "   $a  $b  $c  $d  $e\n",
            "0   1   4   7  10  13\n",
            "1   2   5   8  11  14\n",
            "2   3   6   9  12  15\n",
            "\n",
            "Renamed dataframe\n",
            "   a  b  c   d   e\n",
            "0  1  4  7  10  13\n",
            "1  2  5  8  11  14\n",
            "2  3  6  9  12  15\n"
          ]
        }
      ]
    },
    {
      "cell_type": "code",
      "source": [
        "import pandas as pd\n",
        "\n",
        "# Sample DataFrame\n",
        "df = pd.DataFrame({\n",
        "    'num_hours': [1, 2, 3, 4, 5]  # Example data for 'num_hours' column\n",
        "})\n",
        "\n",
        "# Define the custom function to calculate minutes from hours\n",
        "def to_minutes(row):\n",
        "    return row[\"num_hours\"] * 60\n",
        "\n",
        "# Apply the custom function to create a new column 'newcolumn'\n",
        "df['newcolumn'] = df.apply(to_minutes, axis=1)\n",
        "\n",
        "# Print the updated DataFrame\n",
        "print(df)\n"
      ],
      "metadata": {
        "colab": {
          "base_uri": "https://localhost:8080/"
        },
        "id": "i9z2q9jFYVcj",
        "outputId": "092cf8d3-12a4-44ea-f635-43c60116a191"
      },
      "execution_count": 80,
      "outputs": [
        {
          "output_type": "stream",
          "name": "stdout",
          "text": [
            "   num_hours  newcolumn\n",
            "0          1         60\n",
            "1          2        120\n",
            "2          3        180\n",
            "3          4        240\n",
            "4          5        300\n"
          ]
        }
      ]
    },
    {
      "cell_type": "code",
      "source": [
        "age = 10\n",
        "name = \"cat\"\n",
        "\n",
        "if age == 10 and name == \"dog\":  # Use '==' for comparison, not '='\n",
        "    print(\"10\")\n",
        "elif age == 1 or age == 5:  # Use '==' for comparison, not '='\n",
        "    print(\"either 1 or 5\")\n",
        "else:\n",
        "    print(\"else\")"
      ],
      "metadata": {
        "colab": {
          "base_uri": "https://localhost:8080/"
        },
        "id": "3Yd1izdYbkzP",
        "outputId": "7bccbfed-a6d3-43be-d498-0cbc49285d41"
      },
      "execution_count": 81,
      "outputs": [
        {
          "output_type": "stream",
          "name": "stdout",
          "text": [
            "else\n"
          ]
        }
      ]
    },
    {
      "cell_type": "code",
      "source": [
        "import pandas as pd\n",
        "\n",
        "# Sample DataFrame\n",
        "data = {\n",
        "    'age': [18, 20, 25, 18, 22],\n",
        "    'pet_type': ['dog', 'cat', 'fish', 'dog', 'bird']\n",
        "}\n",
        "\n",
        "df = pd.DataFrame(data)\n",
        "\n",
        "# Filter for exact ages 18 or 20\n",
        "df_18_20 = df[df[\"age\"].isin([18, 20])]\n",
        "print(\"DataFrame filtered for ages 18 or 20:\")\n",
        "print(df_18_20)\n",
        "\n",
        "# Filter for pet types 'dog' or 'cat'\n",
        "df_dog_cat = df[df[\"pet_type\"].isin([\"dog\", \"fish\"])]\n",
        "print(\"\\nDataFrame filtered for pet types 'dog' or 'fish':\")\n",
        "print(df_dog_cat)\n"
      ],
      "metadata": {
        "colab": {
          "base_uri": "https://localhost:8080/"
        },
        "id": "j6fgkUZeb8O1",
        "outputId": "141ba4aa-13d2-4098-954e-d7ff17d5c270"
      },
      "execution_count": 82,
      "outputs": [
        {
          "output_type": "stream",
          "name": "stdout",
          "text": [
            "DataFrame filtered for ages 18 or 20:\n",
            "   age pet_type\n",
            "0   18      dog\n",
            "1   20      cat\n",
            "3   18      dog\n",
            "\n",
            "DataFrame filtered for pet types 'dog' or 'fish':\n",
            "   age pet_type\n",
            "0   18      dog\n",
            "2   25     fish\n",
            "3   18      dog\n"
          ]
        }
      ]
    },
    {
      "cell_type": "code",
      "source": [
        "str_message = 'Life will be truly wonderful on a wonderful planet.'\n",
        "# returns index 19 (find the first occurrence starting from left side)\n",
        "print(str_message.find('wonderful'))\n",
        "# returns index 34 (find the first occurrence starting from right side)\n",
        "print(str_message.rfind('wonderful'))\n",
        "# returns index 19\n",
        "print(str_message.find('wonder'))\n",
        "# find index of \"wonder\" after index 20; returns index 34\n",
        "print(str_message.find('wonder', 20))"
      ],
      "metadata": {
        "colab": {
          "base_uri": "https://localhost:8080/"
        },
        "id": "MtyKGJgmcmvT",
        "outputId": "76a7859f-e643-46c3-ed98-237c8c8bf223"
      },
      "execution_count": 83,
      "outputs": [
        {
          "output_type": "stream",
          "name": "stdout",
          "text": [
            "19\n",
            "34\n",
            "19\n",
            "34\n"
          ]
        }
      ]
    },
    {
      "cell_type": "code",
      "source": [
        "import random\n",
        "# generates a random number between 0 and 1\n",
        "random_num = random.random()\n",
        "print(random_num)\n",
        "\n"
      ],
      "metadata": {
        "colab": {
          "base_uri": "https://localhost:8080/"
        },
        "id": "BWSq0-LldFuO",
        "outputId": "12fc40d9-c1e8-4dc1-f8d2-9c727350f57c"
      },
      "execution_count": 84,
      "outputs": [
        {
          "output_type": "stream",
          "name": "stdout",
          "text": [
            "0.2136481661495434\n"
          ]
        }
      ]
    },
    {
      "cell_type": "code",
      "source": [
        "from random import randrange\n",
        "# approach 1: randomly generate a number between 0 and 10\n",
        "print(randrange(10))\n",
        "print(randrange(0, 10))\n",
        "# approach 2:  randomly generate a number between 0 and 10\n",
        "import random\n",
        "# randomly generate a number between 0 and 10 (includes 10)\n",
        "print(random.randint(0, 10))\n",
        "\n",
        "\n"
      ],
      "metadata": {
        "colab": {
          "base_uri": "https://localhost:8080/"
        },
        "id": "CWkVd15LdN6c",
        "outputId": "e65a8643-4be6-432e-e32c-a734381a374d"
      },
      "execution_count": 85,
      "outputs": [
        {
          "output_type": "stream",
          "name": "stdout",
          "text": [
            "3\n",
            "7\n",
            "9\n"
          ]
        }
      ]
    },
    {
      "cell_type": "code",
      "source": [
        "# Example variables (replace with your actual variables)\n",
        "name = \"John Doe\"\n",
        "email = \"johndoe@example.com\"\n",
        "affiliation = \"Example University\"\n",
        "coauthors_names = \"Jane Smith, Michael Johnson\"\n",
        "research = \"Machine Learning\"\n",
        "\n",
        "# Construct the line using an f-string\n",
        "curr_line = f\"{name},{email},{affiliation},{coauthors_names},{research}\"\n",
        "\n",
        "print(curr_line)"
      ],
      "metadata": {
        "colab": {
          "base_uri": "https://localhost:8080/"
        },
        "id": "F-khDSSXeJsu",
        "outputId": "8f026eba-4587-4a21-f77e-5c56dad32b34"
      },
      "execution_count": 86,
      "outputs": [
        {
          "output_type": "stream",
          "name": "stdout",
          "text": [
            "John Doe,johndoe@example.com,Example University,Jane Smith, Michael Johnson,Machine Learning\n"
          ]
        }
      ]
    },
    {
      "cell_type": "code",
      "source": [
        "import pandas as pd\n",
        "\n",
        "# Example DataFrame (replace with your actual DataFrame)\n",
        "data = {\n",
        "    'Name': ['John', 'Jane', 'Doe', 'Smith'],\n",
        "    'Age': [25, 30, 35, 40],\n",
        "    'Sex': ['M', 'F', 'M', 'M']\n",
        "}\n",
        "\n",
        "df = pd.DataFrame(data)\n",
        "\n",
        "# Filter rows where 'Sex' column is 'M'\n",
        "filtered_df = df[df[\"Sex\"] == \"M\"]\n",
        "\n",
        "# Print the filtered DataFrame\n",
        "print(filtered_df)\n"
      ],
      "metadata": {
        "colab": {
          "base_uri": "https://localhost:8080/"
        },
        "id": "xb_kZwSMf1kX",
        "outputId": "69163565-54a3-4dea-fc30-c74fc82c4087"
      },
      "execution_count": 87,
      "outputs": [
        {
          "output_type": "stream",
          "name": "stdout",
          "text": [
            "    Name  Age Sex\n",
            "0   John   25   M\n",
            "2    Doe   35   M\n",
            "3  Smith   40   M\n"
          ]
        }
      ]
    },
    {
      "cell_type": "code",
      "source": [
        "\n",
        "# Example DataFrame (replace with your actual DataFrame)\n",
        "data = {\n",
        "    'Name': ['John', 'Jane', 'Doe', 'Smith'],\n",
        "    'Age': [25, 30, 35, 40],\n",
        "    'Team': ['Atlanta Hawks', 'Boston Celtics', 'Atlanta Hawks', 'Miami Heat']\n",
        "}\n",
        "\n",
        "df = pd.DataFrame(data)\n",
        "\n",
        "# Boolean series for filtering\n",
        "filter = df[\"Team\"] == \"Atlanta Hawks\"\n",
        "\n",
        "# Filtered DataFrame using df.where()\n",
        "filtered_df = df.where(filter)\n",
        "\n",
        "# Print the filtered DataFrame\n",
        "print(filtered_df)\n"
      ],
      "metadata": {
        "colab": {
          "base_uri": "https://localhost:8080/"
        },
        "id": "UK9jjPQxgU1V",
        "outputId": "3b6e5da4-eaef-4cff-afc6-193552ed4440"
      },
      "execution_count": 88,
      "outputs": [
        {
          "output_type": "stream",
          "name": "stdout",
          "text": [
            "   Name   Age           Team\n",
            "0  John  25.0  Atlanta Hawks\n",
            "1   NaN   NaN            NaN\n",
            "2   Doe  35.0  Atlanta Hawks\n",
            "3   NaN   NaN            NaN\n"
          ]
        }
      ]
    },
    {
      "cell_type": "code",
      "source": [
        "# Example DataFrame (replace with your actual DataFrame)\n",
        "import pandas as pd\n",
        "\n",
        "data = {\n",
        "    'col1': [0, 1, 2, 1, 3],\n",
        "    'col2': ['A', 'B', 'C', 'D', 'E']\n",
        "}\n",
        "\n",
        "df = pd.DataFrame(data)\n",
        "\n",
        "# Filter DataFrame where 'col1' is exactly 1\n",
        "filtered_df = df[df['col1'] == 1]\n",
        "\n",
        "# Print the filtered DataFrame\n",
        "print(filtered_df)\n"
      ],
      "metadata": {
        "colab": {
          "base_uri": "https://localhost:8080/"
        },
        "id": "hP5f1yx0gnyC",
        "outputId": "5afed1e7-07c2-42ba-f8ac-04c56f8e3644"
      },
      "execution_count": 89,
      "outputs": [
        {
          "output_type": "stream",
          "name": "stdout",
          "text": [
            "   col1 col2\n",
            "1     1    B\n",
            "3     1    D\n"
          ]
        }
      ]
    },
    {
      "cell_type": "code",
      "source": [
        "import traceback\n",
        "# path of file\n",
        "path_in_pet = \"dummy.json\"\n",
        "try:\n",
        "   f = open(path_in_pet, 'r')\n",
        "except:\n",
        "   traceback.print_exc()\n",
        "\n"
      ],
      "metadata": {
        "colab": {
          "base_uri": "https://localhost:8080/"
        },
        "id": "xaMZt2VnlU5-",
        "outputId": "fd2294ce-6fe9-4a7b-a664-b4ffbba4dae2"
      },
      "execution_count": 90,
      "outputs": [
        {
          "output_type": "stream",
          "name": "stderr",
          "text": [
            "Traceback (most recent call last):\n",
            "  File \"<ipython-input-90-9f6f2de070d0>\", line 5, in <cell line: 4>\n",
            "    f = open(path_in_pet, 'r')\n",
            "FileNotFoundError: [Errno 2] No such file or directory: 'dummy.json'\n"
          ]
        }
      ]
    },
    {
      "cell_type": "code",
      "source": [],
      "metadata": {
        "id": "nVh6C3LfKeyE"
      },
      "execution_count": null,
      "outputs": []
    }
  ]
}