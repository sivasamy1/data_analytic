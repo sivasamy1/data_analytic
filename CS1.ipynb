{
  "nbformat": 4,
  "nbformat_minor": 0,
  "metadata": {
    "colab": {
      "provenance": [],
      "authorship_tag": "ABX9TyP3RJdqdqpTCTr0ZW7VGKx3",
      "include_colab_link": true
    },
    "kernelspec": {
      "name": "python3",
      "display_name": "Python 3"
    },
    "language_info": {
      "name": "python"
    }
  },
  "cells": [
    {
      "cell_type": "markdown",
      "metadata": {
        "id": "view-in-github",
        "colab_type": "text"
      },
      "source": [
        "<a href=\"https://colab.research.google.com/github/sivasamy1/data_analytic/blob/main/CS1.ipynb\" target=\"_parent\"><img src=\"https://colab.research.google.com/assets/colab-badge.svg\" alt=\"Open In Colab\"/></a>"
      ]
    },
    {
      "cell_type": "code",
      "execution_count": 53,
      "metadata": {
        "id": "W4BZGaNvpek9"
      },
      "outputs": [],
      "source": [
        "# import all necessary lib\n",
        "\n",
        "import pandas as pd\n",
        "from tabulate import tabulate\n",
        "import traceback\n",
        "import numpy as np\n",
        "import matplotlib.pyplot as plt\n",
        "from requests import get\n",
        "import requests\n",
        "import os\n",
        "import csv"
      ]
    },
    {
      "cell_type": "code",
      "source": [
        "#list\n",
        "\n",
        "lst_names = []\n",
        "lst_cities = [\"Banglore\", \"Chennai\", \"SFO\", \"beijing\"]\n",
        "lst_cities.append(\"NYC\")\n",
        "lst_age = [10, 20]\n",
        "lst_age.append(30)\n",
        "for val in lst_cities:\n",
        "  print(val)\n",
        "if \"SFO\" in lst_cities:\n",
        "  print(\"yes\")\n",
        "else:\n",
        "  print(\"no\")\n"
      ],
      "metadata": {
        "colab": {
          "base_uri": "https://localhost:8080/"
        },
        "id": "Ocdhj3e-qY5G",
        "outputId": "fddfed6c-b210-4a80-c095-ec55a1f36bbb"
      },
      "execution_count": 54,
      "outputs": [
        {
          "output_type": "stream",
          "name": "stdout",
          "text": [
            "Banglore\n",
            "Chennai\n",
            "SFO\n",
            "beijing\n",
            "NYC\n",
            "yes\n"
          ]
        }
      ]
    },
    {
      "cell_type": "code",
      "source": [
        "#Iterate list values along with index\n",
        "\n",
        "lst_pets = [\"dog\", \"cat\"]\n",
        "for i, value in enumerate(lst_pets):\n",
        "  print(f\"At index {i}, the value in the list is {value}\")\n",
        "\n"
      ],
      "metadata": {
        "id": "2MTrfpOerQNf",
        "colab": {
          "base_uri": "https://localhost:8080/"
        },
        "outputId": "fd13618d-affd-4cbf-d752-f649b85a8e41"
      },
      "execution_count": 55,
      "outputs": [
        {
          "output_type": "stream",
          "name": "stdout",
          "text": [
            "At index 0, the value in the list is dog\n",
            "At index 1, the value in the list is cat\n"
          ]
        }
      ]
    },
    {
      "cell_type": "code",
      "source": [
        "#set\n",
        "\n",
        "# empty set\n",
        "set_names = ()\n",
        "# Set with some string values in it\n",
        "set_cities = [\"Bangalore\", \"Chennai\", \"SFO\", \"Beijing\"]\n",
        "# append to existing list\n",
        "set_cities.append(\"NYC\")\n",
        "# list with some integer values\n",
        "set_age = [10, 20]\n",
        "# append an integer to the existing list\n",
        "set_age.append(30)\n",
        "print(set_cities)\n",
        "print(set_age)\n",
        "\n"
      ],
      "metadata": {
        "id": "D6StGjXYqoVk",
        "colab": {
          "base_uri": "https://localhost:8080/"
        },
        "outputId": "30dc0df2-789f-4fe6-9836-0b9f1bcf40a0"
      },
      "execution_count": 56,
      "outputs": [
        {
          "output_type": "stream",
          "name": "stdout",
          "text": [
            "['Bangalore', 'Chennai', 'SFO', 'Beijing', 'NYC']\n",
            "[10, 20, 30]\n"
          ]
        }
      ]
    },
    {
      "cell_type": "code",
      "source": [
        "#dictionary\n",
        "\n",
        "# declare dictionary\n",
        "dict_data = {}\n",
        "# insert a empty list into the dictionary\n",
        "dict_data['pet'] = []\n",
        "# append/add a list of dict to the list\n",
        "dict_data['pet'].append({\n",
        "   'name': 'Dog',\n",
        "   'website': 'dog.com',\n",
        "   'from': 'San Francisco'\n",
        "})\n",
        "dict_data['pet'].append({\n",
        "   'name': 'Cat',\n",
        "   'website': 'hellokitty.com',\n",
        "   'from': 'Seattle'\n",
        "})\n",
        "print(dict_data)\n"
      ],
      "metadata": {
        "id": "kZMZs6JwVKsa",
        "colab": {
          "base_uri": "https://localhost:8080/"
        },
        "outputId": "a39e0ddc-8ba2-484f-bcc4-4b4603058135"
      },
      "execution_count": 57,
      "outputs": [
        {
          "output_type": "stream",
          "name": "stdout",
          "text": [
            "{'pet': [{'name': 'Dog', 'website': 'dog.com', 'from': 'San Francisco'}, {'name': 'Cat', 'website': 'hellokitty.com', 'from': 'Seattle'}]}\n"
          ]
        }
      ]
    },
    {
      "cell_type": "code",
      "source": [
        "#len(df) function\n",
        "\n",
        "# list having different pet types\n",
        "lst_pet_types = [\"cat\", \"dog\", \"horse\"]\n",
        "# returns number of elements in the list\n",
        "c_pet_types = len(lst_pet_types)\n",
        "# prints 3\n",
        "print(f\"# pet types: {c_pet_types}\")\n",
        "# Using len() for dictionary\n",
        "dict_pets = {\"name\": \"dog\", \"age\": 2}\n",
        "# returns number of keys in the dictionary\n",
        "c_pets = len(dict_pets)\n",
        "# prints 2\n",
        "print(f\"# pets: {c_pets}\")\n",
        "dict_pets = {\"pets\": [{\"name\": \"dog\", \"age\": 2}, {\"name\": \"dog\", \"age\": 2}]}\n",
        "dict_p_h = {\"pets\": [{\"name\": \"dog\", \"age\": 2}, {\"name\": \"dog\", \"age\": 2}],\n",
        "           \"persons\": [{\"name\": \"ram\", \"age\": 12}, {\"name\": \"kumaran\", \"age\": 11}]}\n",
        "# returns number of keys in the dictionary\n",
        "c_pets, c_humans = len(dict_pets), len(dict_p_h)\n",
        "# prints 1\n",
        "print(f\"# pets: {c_pets} ; # humans: {c_humans}\")\n",
        "# get only keys from the dictionary\n",
        "lst_keys = [*dict_p_h]\n",
        "# get only values from the dictionary\n",
        "lst_values = [*dict_p_h.values()]\n",
        "# prints\n",
        "print(f\"# keys: {len(lst_keys)} | # values: {len(lst_values)}\")\n",
        "print(f\"keys: {lst_keys} | values: {lst_values}\")\n",
        "\n"
      ],
      "metadata": {
        "colab": {
          "base_uri": "https://localhost:8080/"
        },
        "id": "r4cqrUpBVPE2",
        "outputId": "f814432b-c04c-494b-b9e7-b6a91919847f"
      },
      "execution_count": 58,
      "outputs": [
        {
          "output_type": "stream",
          "name": "stdout",
          "text": [
            "# pet types: 3\n",
            "# pets: 2\n",
            "# pets: 1 ; # humans: 2\n",
            "# keys: 2 | # values: 2\n",
            "keys: ['pets', 'persons'] | values: [[{'name': 'dog', 'age': 2}, {'name': 'dog', 'age': 2}], [{'name': 'ram', 'age': 12}, {'name': 'kumaran', 'age': 11}]]\n"
          ]
        }
      ]
    },
    {
      "cell_type": "code",
      "source": [
        "#rename columns of dataframe\n",
        "df = pd.DataFrame(dict_p_h)\n",
        "print(df.columns)\n",
        "\n",
        "# access each column individually\n",
        "for col in df.columns:\n",
        "    print(col)\n",
        "\n",
        "# assign new names to df.columns\n",
        "df.columns = ['Animals', 'Humans']\n",
        "print(df.columns)\n",
        "print(df)"
      ],
      "metadata": {
        "colab": {
          "base_uri": "https://localhost:8080/"
        },
        "id": "xJwH_VzyVWeB",
        "outputId": "0eb9afbf-0ef9-448c-a609-d09e42acd326"
      },
      "execution_count": 59,
      "outputs": [
        {
          "output_type": "stream",
          "name": "stdout",
          "text": [
            "Index(['pets', 'persons'], dtype='object')\n",
            "pets\n",
            "persons\n",
            "Index(['Animals', 'Humans'], dtype='object')\n",
            "                     Animals                          Humans\n",
            "0  {'name': 'dog', 'age': 2}      {'name': 'ram', 'age': 12}\n",
            "1  {'name': 'dog', 'age': 2}  {'name': 'kumaran', 'age': 11}\n"
          ]
        }
      ]
    },
    {
      "cell_type": "code",
      "source": [
        "# delete a column\n",
        "df = df.drop(columns=['Animals'])\n",
        "print(df)"
      ],
      "metadata": {
        "id": "Lh7pRQNWVtIu",
        "colab": {
          "base_uri": "https://localhost:8080/"
        },
        "outputId": "68490c09-e641-4147-c19e-1a1099b2c69f"
      },
      "execution_count": 60,
      "outputs": [
        {
          "output_type": "stream",
          "name": "stdout",
          "text": [
            "                           Humans\n",
            "0      {'name': 'ram', 'age': 12}\n",
            "1  {'name': 'kumaran', 'age': 11}\n"
          ]
        }
      ]
    },
    {
      "cell_type": "code",
      "source": [
        "# strip() - removes a leading or trailing blank space\n",
        "txt = \"     Moscow      \"\n",
        "str_clean = txt.strip()\n",
        "print(f\"From weather reort, {str_clean} is too cold most of the times\")\n"
      ],
      "metadata": {
        "colab": {
          "base_uri": "https://localhost:8080/"
        },
        "id": "Gm9vAQFznBJe",
        "outputId": "3486c789-e57a-4460-a1b6-1564e0673afb"
      },
      "execution_count": 61,
      "outputs": [
        {
          "output_type": "stream",
          "name": "stdout",
          "text": [
            "From weather reort, Moscow is too cold most of the times\n"
          ]
        }
      ]
    },
    {
      "cell_type": "code",
      "source": [
        "#join()\n",
        "\n",
        "lst_items = ['rambo', 'dog', 'chennai']\n",
        "str = ','.join(lst_items)\n",
        "print(str)\n",
        "print(lst_items)"
      ],
      "metadata": {
        "colab": {
          "base_uri": "https://localhost:8080/"
        },
        "id": "2yTXATLZpPku",
        "outputId": "dce8bbcd-e45a-4340-c1a9-5a06195583ea"
      },
      "execution_count": 62,
      "outputs": [
        {
          "output_type": "stream",
          "name": "stdout",
          "text": [
            "rambo,dog,chennai\n",
            "['rambo', 'dog', 'chennai']\n"
          ]
        }
      ]
    },
    {
      "cell_type": "code",
      "source": [
        "\n",
        "\n",
        "# Example DataFrame\n",
        "data = {\n",
        "    'Name': ['Alice', 'Bob', 'Charlie', 'David', 'Emily', 'Frank', 'Grace', 'Hannah', 'Ivy', 'Jack'],\n",
        "    'Age': [25, 30, 35, 28, 32, 27, 31, 29, 26, 33],\n",
        "    'City': ['New York', 'Los Angeles', 'Chicago', 'Houston', 'Phoenix', 'Philadelphia', 'San Antonio', 'San Diego', 'Dallas', 'San Jose']\n",
        "}\n",
        "\n",
        "df = pd.DataFrame(data)\n",
        "print(df.head(9))"
      ],
      "metadata": {
        "id": "hJSbskyMq4nS",
        "colab": {
          "base_uri": "https://localhost:8080/"
        },
        "outputId": "4171f24a-8aba-4446-d24a-5e6b9ba5b1ed"
      },
      "execution_count": 63,
      "outputs": [
        {
          "output_type": "stream",
          "name": "stdout",
          "text": [
            "      Name  Age          City\n",
            "0    Alice   25      New York\n",
            "1      Bob   30   Los Angeles\n",
            "2  Charlie   35       Chicago\n",
            "3    David   28       Houston\n",
            "4    Emily   32       Phoenix\n",
            "5    Frank   27  Philadelphia\n",
            "6    Grace   31   San Antonio\n",
            "7   Hannah   29     San Diego\n",
            "8      Ivy   26        Dallas\n"
          ]
        }
      ]
    },
    {
      "cell_type": "code",
      "source": [
        "print(df.shape)"
      ],
      "metadata": {
        "colab": {
          "base_uri": "https://localhost:8080/"
        },
        "id": "T9d45NsescfT",
        "outputId": "d254b44a-1f2a-418b-a1d7-b0514f0064eb"
      },
      "execution_count": 64,
      "outputs": [
        {
          "output_type": "stream",
          "name": "stdout",
          "text": [
            "(10, 3)\n"
          ]
        }
      ]
    },
    {
      "cell_type": "code",
      "source": [
        "print(list(df))"
      ],
      "metadata": {
        "colab": {
          "base_uri": "https://localhost:8080/"
        },
        "id": "FoVURtkHuXXv",
        "outputId": "a58b968a-741c-4490-8164-ad2da3a02ced"
      },
      "execution_count": 65,
      "outputs": [
        {
          "output_type": "stream",
          "name": "stdout",
          "text": [
            "['Name', 'Age', 'City']\n"
          ]
        }
      ]
    },
    {
      "cell_type": "code",
      "source": [
        "print(df.dtypes)"
      ],
      "metadata": {
        "colab": {
          "base_uri": "https://localhost:8080/"
        },
        "id": "GObm241auc3j",
        "outputId": "a85612f7-c332-439d-8d1b-8f829d0a4c0e"
      },
      "execution_count": 66,
      "outputs": [
        {
          "output_type": "stream",
          "name": "stdout",
          "text": [
            "Name    object\n",
            "Age      int64\n",
            "City    object\n",
            "dtype: object\n"
          ]
        }
      ]
    },
    {
      "cell_type": "code",
      "source": [
        "print(df.describe(include='all'))"
      ],
      "metadata": {
        "colab": {
          "base_uri": "https://localhost:8080/"
        },
        "id": "ZRx-Ujhuuh3I",
        "outputId": "929b241b-ea2b-4d11-bf54-6083a4adb020"
      },
      "execution_count": 67,
      "outputs": [
        {
          "output_type": "stream",
          "name": "stdout",
          "text": [
            "         Name        Age      City\n",
            "count      10  10.000000        10\n",
            "unique     10        NaN        10\n",
            "top     Alice        NaN  New York\n",
            "freq        1        NaN         1\n",
            "mean      NaN  29.600000       NaN\n",
            "std       NaN   3.204164       NaN\n",
            "min       NaN  25.000000       NaN\n",
            "25%       NaN  27.250000       NaN\n",
            "50%       NaN  29.500000       NaN\n",
            "75%       NaN  31.750000       NaN\n",
            "max       NaN  35.000000       NaN\n"
          ]
        }
      ]
    },
    {
      "cell_type": "code",
      "source": [
        "from tabulate import tabulate\n",
        "# custom function for pretty print\n",
        "def pretty_print(title, df, n):\n",
        "   print(f\"\\n{title}:\")\n",
        "   print(tabulate(df.head(n), headers=\"keys\", tablefmt=\"psql\"))\n"
      ],
      "metadata": {
        "id": "eUm8qLg_vJSS"
      },
      "execution_count": 68,
      "outputs": []
    },
    {
      "cell_type": "code",
      "source": [
        "pretty_print(\"Sample DataFrame\", df, 9)"
      ],
      "metadata": {
        "colab": {
          "base_uri": "https://localhost:8080/"
        },
        "id": "uX6LTRlEF35p",
        "outputId": "d8b6c88e-4687-4815-b9e6-81e83ef5ce32"
      },
      "execution_count": 69,
      "outputs": [
        {
          "output_type": "stream",
          "name": "stdout",
          "text": [
            "\n",
            "Sample DataFrame:\n",
            "+----+---------+-------+--------------+\n",
            "|    | Name    |   Age | City         |\n",
            "|----+---------+-------+--------------|\n",
            "|  0 | Alice   |    25 | New York     |\n",
            "|  1 | Bob     |    30 | Los Angeles  |\n",
            "|  2 | Charlie |    35 | Chicago      |\n",
            "|  3 | David   |    28 | Houston      |\n",
            "|  4 | Emily   |    32 | Phoenix      |\n",
            "|  5 | Frank   |    27 | Philadelphia |\n",
            "|  6 | Grace   |    31 | San Antonio  |\n",
            "|  7 | Hannah  |    29 | San Diego    |\n",
            "|  8 | Ivy     |    26 | Dallas       |\n",
            "+----+---------+-------+--------------+\n"
          ]
        }
      ]
    },
    {
      "cell_type": "code",
      "source": [
        "lst_age = df[\"Age\"].unique()\n",
        "# also works\n",
        "lst_age = df.Age.unique()\n",
        "\n",
        "print(lst_age)"
      ],
      "metadata": {
        "colab": {
          "base_uri": "https://localhost:8080/"
        },
        "id": "MbAFK1ZpGYgn",
        "outputId": "cbe72d44-a07b-45ae-d7f7-cda282dc633e"
      },
      "execution_count": 70,
      "outputs": [
        {
          "output_type": "stream",
          "name": "stdout",
          "text": [
            "[25 30 35 28 32 27 31 29 26 33]\n"
          ]
        }
      ]
    },
    {
      "cell_type": "code",
      "source": [
        "df[\"Age\"].value_counts\n"
      ],
      "metadata": {
        "id": "53fnQVR_HN1-",
        "colab": {
          "base_uri": "https://localhost:8080/",
          "height": 204
        },
        "outputId": "9a0a1221-67bc-4154-94a7-3e3b6a501b21"
      },
      "execution_count": 71,
      "outputs": [
        {
          "output_type": "execute_result",
          "data": {
            "text/plain": [
              "<bound method IndexOpsMixin.value_counts of 0    25\n",
              "1    30\n",
              "2    35\n",
              "3    28\n",
              "4    32\n",
              "5    27\n",
              "6    31\n",
              "7    29\n",
              "8    26\n",
              "9    33\n",
              "Name: Age, dtype: int64>"
            ],
            "text/html": [
              "<div style=\"max-width:800px; border: 1px solid var(--colab-border-color);\"><style>\n",
              "      pre.function-repr-contents {\n",
              "        overflow-x: auto;\n",
              "        padding: 8px 12px;\n",
              "        max-height: 500px;\n",
              "      }\n",
              "\n",
              "      pre.function-repr-contents.function-repr-contents-collapsed {\n",
              "        cursor: pointer;\n",
              "        max-height: 100px;\n",
              "      }\n",
              "    </style>\n",
              "    <pre style=\"white-space: initial; background:\n",
              "         var(--colab-secondary-surface-color); padding: 8px 12px;\n",
              "         border-bottom: 1px solid var(--colab-border-color);\"><b>pandas.core.base.IndexOpsMixin.value_counts</b><br/>def value_counts(normalize: bool=False, sort: bool=True, ascending: bool=False, bins=None, dropna: bool=True) -&gt; Series</pre><pre class=\"function-repr-contents function-repr-contents-collapsed\" style=\"\"><a class=\"filepath\" style=\"display:none\" href=\"#\">/usr/local/lib/python3.10/dist-packages/pandas/core/base.py</a>Return a Series containing counts of unique values.\n",
              "\n",
              "The resulting object will be in descending order so that the\n",
              "first element is the most frequently-occurring element.\n",
              "Excludes NA values by default.\n",
              "\n",
              "Parameters\n",
              "----------\n",
              "normalize : bool, default False\n",
              "    If True then the object returned will contain the relative\n",
              "    frequencies of the unique values.\n",
              "sort : bool, default True\n",
              "    Sort by frequencies.\n",
              "ascending : bool, default False\n",
              "    Sort in ascending order.\n",
              "bins : int, optional\n",
              "    Rather than count values, group them into half-open bins,\n",
              "    a convenience for ``pd.cut``, only works with numeric data.\n",
              "dropna : bool, default True\n",
              "    Don&#x27;t include counts of NaN.\n",
              "\n",
              "Returns\n",
              "-------\n",
              "Series\n",
              "\n",
              "See Also\n",
              "--------\n",
              "Series.count: Number of non-NA elements in a Series.\n",
              "DataFrame.count: Number of non-NA elements in a DataFrame.\n",
              "DataFrame.value_counts: Equivalent method on DataFrames.\n",
              "\n",
              "Examples\n",
              "--------\n",
              "&gt;&gt;&gt; index = pd.Index([3, 1, 2, 3, 4, np.nan])\n",
              "&gt;&gt;&gt; index.value_counts()\n",
              "3.0    2\n",
              "1.0    1\n",
              "2.0    1\n",
              "4.0    1\n",
              "Name: count, dtype: int64\n",
              "\n",
              "With `normalize` set to `True`, returns the relative frequency by\n",
              "dividing all values by the sum of values.\n",
              "\n",
              "&gt;&gt;&gt; s = pd.Series([3, 1, 2, 3, 4, np.nan])\n",
              "&gt;&gt;&gt; s.value_counts(normalize=True)\n",
              "3.0    0.4\n",
              "1.0    0.2\n",
              "2.0    0.2\n",
              "4.0    0.2\n",
              "Name: proportion, dtype: float64\n",
              "\n",
              "**bins**\n",
              "\n",
              "Bins can be useful for going from a continuous variable to a\n",
              "categorical variable; instead of counting unique\n",
              "apparitions of values, divide the index in the specified\n",
              "number of half-open bins.\n",
              "\n",
              "&gt;&gt;&gt; s.value_counts(bins=3)\n",
              "(0.996, 2.0]    2\n",
              "(2.0, 3.0]      2\n",
              "(3.0, 4.0]      1\n",
              "Name: count, dtype: int64\n",
              "\n",
              "**dropna**\n",
              "\n",
              "With `dropna` set to `False` we can also see NaN index values.\n",
              "\n",
              "&gt;&gt;&gt; s.value_counts(dropna=False)\n",
              "3.0    2\n",
              "1.0    1\n",
              "2.0    1\n",
              "4.0    1\n",
              "NaN    1\n",
              "Name: count, dtype: int64</pre>\n",
              "      <script>\n",
              "      if (google.colab.kernel.accessAllowed && google.colab.files && google.colab.files.view) {\n",
              "        for (const element of document.querySelectorAll('.filepath')) {\n",
              "          element.style.display = 'block'\n",
              "          element.onclick = (event) => {\n",
              "            event.preventDefault();\n",
              "            event.stopPropagation();\n",
              "            google.colab.files.view(element.textContent, 928);\n",
              "          };\n",
              "        }\n",
              "      }\n",
              "      for (const element of document.querySelectorAll('.function-repr-contents')) {\n",
              "        element.onclick = (event) => {\n",
              "          event.preventDefault();\n",
              "          event.stopPropagation();\n",
              "          element.classList.toggle('function-repr-contents-collapsed');\n",
              "        };\n",
              "      }\n",
              "      </script>\n",
              "      </div>"
            ]
          },
          "metadata": {},
          "execution_count": 71
        }
      ]
    },
    {
      "cell_type": "code",
      "source": [
        "df.groupby(\"Age\").count()"
      ],
      "metadata": {
        "colab": {
          "base_uri": "https://localhost:8080/",
          "height": 394
        },
        "id": "1MGMTaQoYr1X",
        "outputId": "0e36b317-b7fd-47f9-d034-d19343e7545a"
      },
      "execution_count": 72,
      "outputs": [
        {
          "output_type": "execute_result",
          "data": {
            "text/plain": [
              "     Name  City\n",
              "Age            \n",
              "25      1     1\n",
              "26      1     1\n",
              "27      1     1\n",
              "28      1     1\n",
              "29      1     1\n",
              "30      1     1\n",
              "31      1     1\n",
              "32      1     1\n",
              "33      1     1\n",
              "35      1     1"
            ],
            "text/html": [
              "\n",
              "  <div id=\"df-25d4acbc-531f-4db2-aa90-38658bbd04c7\" class=\"colab-df-container\">\n",
              "    <div>\n",
              "<style scoped>\n",
              "    .dataframe tbody tr th:only-of-type {\n",
              "        vertical-align: middle;\n",
              "    }\n",
              "\n",
              "    .dataframe tbody tr th {\n",
              "        vertical-align: top;\n",
              "    }\n",
              "\n",
              "    .dataframe thead th {\n",
              "        text-align: right;\n",
              "    }\n",
              "</style>\n",
              "<table border=\"1\" class=\"dataframe\">\n",
              "  <thead>\n",
              "    <tr style=\"text-align: right;\">\n",
              "      <th></th>\n",
              "      <th>Name</th>\n",
              "      <th>City</th>\n",
              "    </tr>\n",
              "    <tr>\n",
              "      <th>Age</th>\n",
              "      <th></th>\n",
              "      <th></th>\n",
              "    </tr>\n",
              "  </thead>\n",
              "  <tbody>\n",
              "    <tr>\n",
              "      <th>25</th>\n",
              "      <td>1</td>\n",
              "      <td>1</td>\n",
              "    </tr>\n",
              "    <tr>\n",
              "      <th>26</th>\n",
              "      <td>1</td>\n",
              "      <td>1</td>\n",
              "    </tr>\n",
              "    <tr>\n",
              "      <th>27</th>\n",
              "      <td>1</td>\n",
              "      <td>1</td>\n",
              "    </tr>\n",
              "    <tr>\n",
              "      <th>28</th>\n",
              "      <td>1</td>\n",
              "      <td>1</td>\n",
              "    </tr>\n",
              "    <tr>\n",
              "      <th>29</th>\n",
              "      <td>1</td>\n",
              "      <td>1</td>\n",
              "    </tr>\n",
              "    <tr>\n",
              "      <th>30</th>\n",
              "      <td>1</td>\n",
              "      <td>1</td>\n",
              "    </tr>\n",
              "    <tr>\n",
              "      <th>31</th>\n",
              "      <td>1</td>\n",
              "      <td>1</td>\n",
              "    </tr>\n",
              "    <tr>\n",
              "      <th>32</th>\n",
              "      <td>1</td>\n",
              "      <td>1</td>\n",
              "    </tr>\n",
              "    <tr>\n",
              "      <th>33</th>\n",
              "      <td>1</td>\n",
              "      <td>1</td>\n",
              "    </tr>\n",
              "    <tr>\n",
              "      <th>35</th>\n",
              "      <td>1</td>\n",
              "      <td>1</td>\n",
              "    </tr>\n",
              "  </tbody>\n",
              "</table>\n",
              "</div>\n",
              "    <div class=\"colab-df-buttons\">\n",
              "\n",
              "  <div class=\"colab-df-container\">\n",
              "    <button class=\"colab-df-convert\" onclick=\"convertToInteractive('df-25d4acbc-531f-4db2-aa90-38658bbd04c7')\"\n",
              "            title=\"Convert this dataframe to an interactive table.\"\n",
              "            style=\"display:none;\">\n",
              "\n",
              "  <svg xmlns=\"http://www.w3.org/2000/svg\" height=\"24px\" viewBox=\"0 -960 960 960\">\n",
              "    <path d=\"M120-120v-720h720v720H120Zm60-500h600v-160H180v160Zm220 220h160v-160H400v160Zm0 220h160v-160H400v160ZM180-400h160v-160H180v160Zm440 0h160v-160H620v160ZM180-180h160v-160H180v160Zm440 0h160v-160H620v160Z\"/>\n",
              "  </svg>\n",
              "    </button>\n",
              "\n",
              "  <style>\n",
              "    .colab-df-container {\n",
              "      display:flex;\n",
              "      gap: 12px;\n",
              "    }\n",
              "\n",
              "    .colab-df-convert {\n",
              "      background-color: #E8F0FE;\n",
              "      border: none;\n",
              "      border-radius: 50%;\n",
              "      cursor: pointer;\n",
              "      display: none;\n",
              "      fill: #1967D2;\n",
              "      height: 32px;\n",
              "      padding: 0 0 0 0;\n",
              "      width: 32px;\n",
              "    }\n",
              "\n",
              "    .colab-df-convert:hover {\n",
              "      background-color: #E2EBFA;\n",
              "      box-shadow: 0px 1px 2px rgba(60, 64, 67, 0.3), 0px 1px 3px 1px rgba(60, 64, 67, 0.15);\n",
              "      fill: #174EA6;\n",
              "    }\n",
              "\n",
              "    .colab-df-buttons div {\n",
              "      margin-bottom: 4px;\n",
              "    }\n",
              "\n",
              "    [theme=dark] .colab-df-convert {\n",
              "      background-color: #3B4455;\n",
              "      fill: #D2E3FC;\n",
              "    }\n",
              "\n",
              "    [theme=dark] .colab-df-convert:hover {\n",
              "      background-color: #434B5C;\n",
              "      box-shadow: 0px 1px 3px 1px rgba(0, 0, 0, 0.15);\n",
              "      filter: drop-shadow(0px 1px 2px rgba(0, 0, 0, 0.3));\n",
              "      fill: #FFFFFF;\n",
              "    }\n",
              "  </style>\n",
              "\n",
              "    <script>\n",
              "      const buttonEl =\n",
              "        document.querySelector('#df-25d4acbc-531f-4db2-aa90-38658bbd04c7 button.colab-df-convert');\n",
              "      buttonEl.style.display =\n",
              "        google.colab.kernel.accessAllowed ? 'block' : 'none';\n",
              "\n",
              "      async function convertToInteractive(key) {\n",
              "        const element = document.querySelector('#df-25d4acbc-531f-4db2-aa90-38658bbd04c7');\n",
              "        const dataTable =\n",
              "          await google.colab.kernel.invokeFunction('convertToInteractive',\n",
              "                                                    [key], {});\n",
              "        if (!dataTable) return;\n",
              "\n",
              "        const docLinkHtml = 'Like what you see? Visit the ' +\n",
              "          '<a target=\"_blank\" href=https://colab.research.google.com/notebooks/data_table.ipynb>data table notebook</a>'\n",
              "          + ' to learn more about interactive tables.';\n",
              "        element.innerHTML = '';\n",
              "        dataTable['output_type'] = 'display_data';\n",
              "        await google.colab.output.renderOutput(dataTable, element);\n",
              "        const docLink = document.createElement('div');\n",
              "        docLink.innerHTML = docLinkHtml;\n",
              "        element.appendChild(docLink);\n",
              "      }\n",
              "    </script>\n",
              "  </div>\n",
              "\n",
              "\n",
              "<div id=\"df-4a2f8cb4-ad92-4bda-b4f2-b89310b2610b\">\n",
              "  <button class=\"colab-df-quickchart\" onclick=\"quickchart('df-4a2f8cb4-ad92-4bda-b4f2-b89310b2610b')\"\n",
              "            title=\"Suggest charts\"\n",
              "            style=\"display:none;\">\n",
              "\n",
              "<svg xmlns=\"http://www.w3.org/2000/svg\" height=\"24px\"viewBox=\"0 0 24 24\"\n",
              "     width=\"24px\">\n",
              "    <g>\n",
              "        <path d=\"M19 3H5c-1.1 0-2 .9-2 2v14c0 1.1.9 2 2 2h14c1.1 0 2-.9 2-2V5c0-1.1-.9-2-2-2zM9 17H7v-7h2v7zm4 0h-2V7h2v10zm4 0h-2v-4h2v4z\"/>\n",
              "    </g>\n",
              "</svg>\n",
              "  </button>\n",
              "\n",
              "<style>\n",
              "  .colab-df-quickchart {\n",
              "      --bg-color: #E8F0FE;\n",
              "      --fill-color: #1967D2;\n",
              "      --hover-bg-color: #E2EBFA;\n",
              "      --hover-fill-color: #174EA6;\n",
              "      --disabled-fill-color: #AAA;\n",
              "      --disabled-bg-color: #DDD;\n",
              "  }\n",
              "\n",
              "  [theme=dark] .colab-df-quickchart {\n",
              "      --bg-color: #3B4455;\n",
              "      --fill-color: #D2E3FC;\n",
              "      --hover-bg-color: #434B5C;\n",
              "      --hover-fill-color: #FFFFFF;\n",
              "      --disabled-bg-color: #3B4455;\n",
              "      --disabled-fill-color: #666;\n",
              "  }\n",
              "\n",
              "  .colab-df-quickchart {\n",
              "    background-color: var(--bg-color);\n",
              "    border: none;\n",
              "    border-radius: 50%;\n",
              "    cursor: pointer;\n",
              "    display: none;\n",
              "    fill: var(--fill-color);\n",
              "    height: 32px;\n",
              "    padding: 0;\n",
              "    width: 32px;\n",
              "  }\n",
              "\n",
              "  .colab-df-quickchart:hover {\n",
              "    background-color: var(--hover-bg-color);\n",
              "    box-shadow: 0 1px 2px rgba(60, 64, 67, 0.3), 0 1px 3px 1px rgba(60, 64, 67, 0.15);\n",
              "    fill: var(--button-hover-fill-color);\n",
              "  }\n",
              "\n",
              "  .colab-df-quickchart-complete:disabled,\n",
              "  .colab-df-quickchart-complete:disabled:hover {\n",
              "    background-color: var(--disabled-bg-color);\n",
              "    fill: var(--disabled-fill-color);\n",
              "    box-shadow: none;\n",
              "  }\n",
              "\n",
              "  .colab-df-spinner {\n",
              "    border: 2px solid var(--fill-color);\n",
              "    border-color: transparent;\n",
              "    border-bottom-color: var(--fill-color);\n",
              "    animation:\n",
              "      spin 1s steps(1) infinite;\n",
              "  }\n",
              "\n",
              "  @keyframes spin {\n",
              "    0% {\n",
              "      border-color: transparent;\n",
              "      border-bottom-color: var(--fill-color);\n",
              "      border-left-color: var(--fill-color);\n",
              "    }\n",
              "    20% {\n",
              "      border-color: transparent;\n",
              "      border-left-color: var(--fill-color);\n",
              "      border-top-color: var(--fill-color);\n",
              "    }\n",
              "    30% {\n",
              "      border-color: transparent;\n",
              "      border-left-color: var(--fill-color);\n",
              "      border-top-color: var(--fill-color);\n",
              "      border-right-color: var(--fill-color);\n",
              "    }\n",
              "    40% {\n",
              "      border-color: transparent;\n",
              "      border-right-color: var(--fill-color);\n",
              "      border-top-color: var(--fill-color);\n",
              "    }\n",
              "    60% {\n",
              "      border-color: transparent;\n",
              "      border-right-color: var(--fill-color);\n",
              "    }\n",
              "    80% {\n",
              "      border-color: transparent;\n",
              "      border-right-color: var(--fill-color);\n",
              "      border-bottom-color: var(--fill-color);\n",
              "    }\n",
              "    90% {\n",
              "      border-color: transparent;\n",
              "      border-bottom-color: var(--fill-color);\n",
              "    }\n",
              "  }\n",
              "</style>\n",
              "\n",
              "  <script>\n",
              "    async function quickchart(key) {\n",
              "      const quickchartButtonEl =\n",
              "        document.querySelector('#' + key + ' button');\n",
              "      quickchartButtonEl.disabled = true;  // To prevent multiple clicks.\n",
              "      quickchartButtonEl.classList.add('colab-df-spinner');\n",
              "      try {\n",
              "        const charts = await google.colab.kernel.invokeFunction(\n",
              "            'suggestCharts', [key], {});\n",
              "      } catch (error) {\n",
              "        console.error('Error during call to suggestCharts:', error);\n",
              "      }\n",
              "      quickchartButtonEl.classList.remove('colab-df-spinner');\n",
              "      quickchartButtonEl.classList.add('colab-df-quickchart-complete');\n",
              "    }\n",
              "    (() => {\n",
              "      let quickchartButtonEl =\n",
              "        document.querySelector('#df-4a2f8cb4-ad92-4bda-b4f2-b89310b2610b button');\n",
              "      quickchartButtonEl.style.display =\n",
              "        google.colab.kernel.accessAllowed ? 'block' : 'none';\n",
              "    })();\n",
              "  </script>\n",
              "</div>\n",
              "\n",
              "    </div>\n",
              "  </div>\n"
            ],
            "application/vnd.google.colaboratory.intrinsic+json": {
              "type": "dataframe",
              "summary": "{\n  \"name\": \"df\",\n  \"rows\": 10,\n  \"fields\": [\n    {\n      \"column\": \"Age\",\n      \"properties\": {\n        \"dtype\": \"number\",\n        \"std\": 3,\n        \"min\": 25,\n        \"max\": 35,\n        \"num_unique_values\": 10,\n        \"samples\": [\n          33,\n          26,\n          30\n        ],\n        \"semantic_type\": \"\",\n        \"description\": \"\"\n      }\n    },\n    {\n      \"column\": \"Name\",\n      \"properties\": {\n        \"dtype\": \"number\",\n        \"std\": 0,\n        \"min\": 1,\n        \"max\": 1,\n        \"num_unique_values\": 1,\n        \"samples\": [\n          1\n        ],\n        \"semantic_type\": \"\",\n        \"description\": \"\"\n      }\n    },\n    {\n      \"column\": \"City\",\n      \"properties\": {\n        \"dtype\": \"number\",\n        \"std\": 0,\n        \"min\": 1,\n        \"max\": 1,\n        \"num_unique_values\": 1,\n        \"samples\": [\n          1\n        ],\n        \"semantic_type\": \"\",\n        \"description\": \"\"\n      }\n    }\n  ]\n}"
            }
          },
          "metadata": {},
          "execution_count": 72
        }
      ]
    },
    {
      "cell_type": "code",
      "source": [
        "df.groupby(\"Age\").Name.nunique()\n"
      ],
      "metadata": {
        "colab": {
          "base_uri": "https://localhost:8080/"
        },
        "id": "YdSRKP3danRU",
        "outputId": "a9895ef4-88b5-4f5b-ac2d-2b67257426d4"
      },
      "execution_count": 73,
      "outputs": [
        {
          "output_type": "execute_result",
          "data": {
            "text/plain": [
              "Age\n",
              "25    1\n",
              "26    1\n",
              "27    1\n",
              "28    1\n",
              "29    1\n",
              "30    1\n",
              "31    1\n",
              "32    1\n",
              "33    1\n",
              "35    1\n",
              "Name: Name, dtype: int64"
            ]
          },
          "metadata": {},
          "execution_count": 73
        }
      ]
    },
    {
      "cell_type": "code",
      "source": [
        "data = {'state':[\"CA\",\"CA\",\"TX\",\"NC\", \"SC\"],'deaths':[6,11,4,5,9]}\n",
        "df = pd.DataFrame(data)\n",
        "# how many unique death counts are under each of the state\n",
        "df2 = df.groupby('state')['deaths'] \\\n",
        "        .nunique() \\\n",
        "        .to_frame('deaths') \\\n",
        "        .reset_index()\n",
        "df2.head(10)"
      ],
      "metadata": {
        "colab": {
          "base_uri": "https://localhost:8080/",
          "height": 175
        },
        "id": "hEW7XG-BbLI2",
        "outputId": "fe9529e5-7221-40a5-c48d-d2e146fa7b04"
      },
      "execution_count": 74,
      "outputs": [
        {
          "output_type": "execute_result",
          "data": {
            "text/plain": [
              "  state  deaths\n",
              "0    CA       2\n",
              "1    NC       1\n",
              "2    SC       1\n",
              "3    TX       1"
            ],
            "text/html": [
              "\n",
              "  <div id=\"df-ecefb054-7ea4-45ba-9c11-fb340fc20206\" class=\"colab-df-container\">\n",
              "    <div>\n",
              "<style scoped>\n",
              "    .dataframe tbody tr th:only-of-type {\n",
              "        vertical-align: middle;\n",
              "    }\n",
              "\n",
              "    .dataframe tbody tr th {\n",
              "        vertical-align: top;\n",
              "    }\n",
              "\n",
              "    .dataframe thead th {\n",
              "        text-align: right;\n",
              "    }\n",
              "</style>\n",
              "<table border=\"1\" class=\"dataframe\">\n",
              "  <thead>\n",
              "    <tr style=\"text-align: right;\">\n",
              "      <th></th>\n",
              "      <th>state</th>\n",
              "      <th>deaths</th>\n",
              "    </tr>\n",
              "  </thead>\n",
              "  <tbody>\n",
              "    <tr>\n",
              "      <th>0</th>\n",
              "      <td>CA</td>\n",
              "      <td>2</td>\n",
              "    </tr>\n",
              "    <tr>\n",
              "      <th>1</th>\n",
              "      <td>NC</td>\n",
              "      <td>1</td>\n",
              "    </tr>\n",
              "    <tr>\n",
              "      <th>2</th>\n",
              "      <td>SC</td>\n",
              "      <td>1</td>\n",
              "    </tr>\n",
              "    <tr>\n",
              "      <th>3</th>\n",
              "      <td>TX</td>\n",
              "      <td>1</td>\n",
              "    </tr>\n",
              "  </tbody>\n",
              "</table>\n",
              "</div>\n",
              "    <div class=\"colab-df-buttons\">\n",
              "\n",
              "  <div class=\"colab-df-container\">\n",
              "    <button class=\"colab-df-convert\" onclick=\"convertToInteractive('df-ecefb054-7ea4-45ba-9c11-fb340fc20206')\"\n",
              "            title=\"Convert this dataframe to an interactive table.\"\n",
              "            style=\"display:none;\">\n",
              "\n",
              "  <svg xmlns=\"http://www.w3.org/2000/svg\" height=\"24px\" viewBox=\"0 -960 960 960\">\n",
              "    <path d=\"M120-120v-720h720v720H120Zm60-500h600v-160H180v160Zm220 220h160v-160H400v160Zm0 220h160v-160H400v160ZM180-400h160v-160H180v160Zm440 0h160v-160H620v160ZM180-180h160v-160H180v160Zm440 0h160v-160H620v160Z\"/>\n",
              "  </svg>\n",
              "    </button>\n",
              "\n",
              "  <style>\n",
              "    .colab-df-container {\n",
              "      display:flex;\n",
              "      gap: 12px;\n",
              "    }\n",
              "\n",
              "    .colab-df-convert {\n",
              "      background-color: #E8F0FE;\n",
              "      border: none;\n",
              "      border-radius: 50%;\n",
              "      cursor: pointer;\n",
              "      display: none;\n",
              "      fill: #1967D2;\n",
              "      height: 32px;\n",
              "      padding: 0 0 0 0;\n",
              "      width: 32px;\n",
              "    }\n",
              "\n",
              "    .colab-df-convert:hover {\n",
              "      background-color: #E2EBFA;\n",
              "      box-shadow: 0px 1px 2px rgba(60, 64, 67, 0.3), 0px 1px 3px 1px rgba(60, 64, 67, 0.15);\n",
              "      fill: #174EA6;\n",
              "    }\n",
              "\n",
              "    .colab-df-buttons div {\n",
              "      margin-bottom: 4px;\n",
              "    }\n",
              "\n",
              "    [theme=dark] .colab-df-convert {\n",
              "      background-color: #3B4455;\n",
              "      fill: #D2E3FC;\n",
              "    }\n",
              "\n",
              "    [theme=dark] .colab-df-convert:hover {\n",
              "      background-color: #434B5C;\n",
              "      box-shadow: 0px 1px 3px 1px rgba(0, 0, 0, 0.15);\n",
              "      filter: drop-shadow(0px 1px 2px rgba(0, 0, 0, 0.3));\n",
              "      fill: #FFFFFF;\n",
              "    }\n",
              "  </style>\n",
              "\n",
              "    <script>\n",
              "      const buttonEl =\n",
              "        document.querySelector('#df-ecefb054-7ea4-45ba-9c11-fb340fc20206 button.colab-df-convert');\n",
              "      buttonEl.style.display =\n",
              "        google.colab.kernel.accessAllowed ? 'block' : 'none';\n",
              "\n",
              "      async function convertToInteractive(key) {\n",
              "        const element = document.querySelector('#df-ecefb054-7ea4-45ba-9c11-fb340fc20206');\n",
              "        const dataTable =\n",
              "          await google.colab.kernel.invokeFunction('convertToInteractive',\n",
              "                                                    [key], {});\n",
              "        if (!dataTable) return;\n",
              "\n",
              "        const docLinkHtml = 'Like what you see? Visit the ' +\n",
              "          '<a target=\"_blank\" href=https://colab.research.google.com/notebooks/data_table.ipynb>data table notebook</a>'\n",
              "          + ' to learn more about interactive tables.';\n",
              "        element.innerHTML = '';\n",
              "        dataTable['output_type'] = 'display_data';\n",
              "        await google.colab.output.renderOutput(dataTable, element);\n",
              "        const docLink = document.createElement('div');\n",
              "        docLink.innerHTML = docLinkHtml;\n",
              "        element.appendChild(docLink);\n",
              "      }\n",
              "    </script>\n",
              "  </div>\n",
              "\n",
              "\n",
              "<div id=\"df-9e19389f-c544-4143-8c88-9cc4673419fe\">\n",
              "  <button class=\"colab-df-quickchart\" onclick=\"quickchart('df-9e19389f-c544-4143-8c88-9cc4673419fe')\"\n",
              "            title=\"Suggest charts\"\n",
              "            style=\"display:none;\">\n",
              "\n",
              "<svg xmlns=\"http://www.w3.org/2000/svg\" height=\"24px\"viewBox=\"0 0 24 24\"\n",
              "     width=\"24px\">\n",
              "    <g>\n",
              "        <path d=\"M19 3H5c-1.1 0-2 .9-2 2v14c0 1.1.9 2 2 2h14c1.1 0 2-.9 2-2V5c0-1.1-.9-2-2-2zM9 17H7v-7h2v7zm4 0h-2V7h2v10zm4 0h-2v-4h2v4z\"/>\n",
              "    </g>\n",
              "</svg>\n",
              "  </button>\n",
              "\n",
              "<style>\n",
              "  .colab-df-quickchart {\n",
              "      --bg-color: #E8F0FE;\n",
              "      --fill-color: #1967D2;\n",
              "      --hover-bg-color: #E2EBFA;\n",
              "      --hover-fill-color: #174EA6;\n",
              "      --disabled-fill-color: #AAA;\n",
              "      --disabled-bg-color: #DDD;\n",
              "  }\n",
              "\n",
              "  [theme=dark] .colab-df-quickchart {\n",
              "      --bg-color: #3B4455;\n",
              "      --fill-color: #D2E3FC;\n",
              "      --hover-bg-color: #434B5C;\n",
              "      --hover-fill-color: #FFFFFF;\n",
              "      --disabled-bg-color: #3B4455;\n",
              "      --disabled-fill-color: #666;\n",
              "  }\n",
              "\n",
              "  .colab-df-quickchart {\n",
              "    background-color: var(--bg-color);\n",
              "    border: none;\n",
              "    border-radius: 50%;\n",
              "    cursor: pointer;\n",
              "    display: none;\n",
              "    fill: var(--fill-color);\n",
              "    height: 32px;\n",
              "    padding: 0;\n",
              "    width: 32px;\n",
              "  }\n",
              "\n",
              "  .colab-df-quickchart:hover {\n",
              "    background-color: var(--hover-bg-color);\n",
              "    box-shadow: 0 1px 2px rgba(60, 64, 67, 0.3), 0 1px 3px 1px rgba(60, 64, 67, 0.15);\n",
              "    fill: var(--button-hover-fill-color);\n",
              "  }\n",
              "\n",
              "  .colab-df-quickchart-complete:disabled,\n",
              "  .colab-df-quickchart-complete:disabled:hover {\n",
              "    background-color: var(--disabled-bg-color);\n",
              "    fill: var(--disabled-fill-color);\n",
              "    box-shadow: none;\n",
              "  }\n",
              "\n",
              "  .colab-df-spinner {\n",
              "    border: 2px solid var(--fill-color);\n",
              "    border-color: transparent;\n",
              "    border-bottom-color: var(--fill-color);\n",
              "    animation:\n",
              "      spin 1s steps(1) infinite;\n",
              "  }\n",
              "\n",
              "  @keyframes spin {\n",
              "    0% {\n",
              "      border-color: transparent;\n",
              "      border-bottom-color: var(--fill-color);\n",
              "      border-left-color: var(--fill-color);\n",
              "    }\n",
              "    20% {\n",
              "      border-color: transparent;\n",
              "      border-left-color: var(--fill-color);\n",
              "      border-top-color: var(--fill-color);\n",
              "    }\n",
              "    30% {\n",
              "      border-color: transparent;\n",
              "      border-left-color: var(--fill-color);\n",
              "      border-top-color: var(--fill-color);\n",
              "      border-right-color: var(--fill-color);\n",
              "    }\n",
              "    40% {\n",
              "      border-color: transparent;\n",
              "      border-right-color: var(--fill-color);\n",
              "      border-top-color: var(--fill-color);\n",
              "    }\n",
              "    60% {\n",
              "      border-color: transparent;\n",
              "      border-right-color: var(--fill-color);\n",
              "    }\n",
              "    80% {\n",
              "      border-color: transparent;\n",
              "      border-right-color: var(--fill-color);\n",
              "      border-bottom-color: var(--fill-color);\n",
              "    }\n",
              "    90% {\n",
              "      border-color: transparent;\n",
              "      border-bottom-color: var(--fill-color);\n",
              "    }\n",
              "  }\n",
              "</style>\n",
              "\n",
              "  <script>\n",
              "    async function quickchart(key) {\n",
              "      const quickchartButtonEl =\n",
              "        document.querySelector('#' + key + ' button');\n",
              "      quickchartButtonEl.disabled = true;  // To prevent multiple clicks.\n",
              "      quickchartButtonEl.classList.add('colab-df-spinner');\n",
              "      try {\n",
              "        const charts = await google.colab.kernel.invokeFunction(\n",
              "            'suggestCharts', [key], {});\n",
              "      } catch (error) {\n",
              "        console.error('Error during call to suggestCharts:', error);\n",
              "      }\n",
              "      quickchartButtonEl.classList.remove('colab-df-spinner');\n",
              "      quickchartButtonEl.classList.add('colab-df-quickchart-complete');\n",
              "    }\n",
              "    (() => {\n",
              "      let quickchartButtonEl =\n",
              "        document.querySelector('#df-9e19389f-c544-4143-8c88-9cc4673419fe button');\n",
              "      quickchartButtonEl.style.display =\n",
              "        google.colab.kernel.accessAllowed ? 'block' : 'none';\n",
              "    })();\n",
              "  </script>\n",
              "</div>\n",
              "\n",
              "    </div>\n",
              "  </div>\n"
            ],
            "application/vnd.google.colaboratory.intrinsic+json": {
              "type": "dataframe",
              "variable_name": "df2",
              "summary": "{\n  \"name\": \"df2\",\n  \"rows\": 4,\n  \"fields\": [\n    {\n      \"column\": \"state\",\n      \"properties\": {\n        \"dtype\": \"string\",\n        \"num_unique_values\": 4,\n        \"samples\": [\n          \"NC\",\n          \"TX\",\n          \"CA\"\n        ],\n        \"semantic_type\": \"\",\n        \"description\": \"\"\n      }\n    },\n    {\n      \"column\": \"deaths\",\n      \"properties\": {\n        \"dtype\": \"number\",\n        \"std\": 0,\n        \"min\": 1,\n        \"max\": 2,\n        \"num_unique_values\": 2,\n        \"samples\": [\n          1,\n          2\n        ],\n        \"semantic_type\": \"\",\n        \"description\": \"\"\n      }\n    }\n  ]\n}"
            }
          },
          "metadata": {},
          "execution_count": 74
        }
      ]
    },
    {
      "cell_type": "code",
      "source": [
        "# input file\n",
        "file_name = '/content/openpowerlifting.csv'\n",
        "# read csv file\n",
        "df_in_power = pd.read_csv(file_name)\n",
        "# men only\n",
        "df_state_male = df_in_power.loc[df_in_power['Sex'] == \"M\"]\\\n",
        "                .groupby(['State'])\\\n",
        "                .size()\\\n",
        "                .to_frame('count')\\\n",
        "                .reset_index()\n",
        "# sort by count\n",
        "df_sorted = df_state_male\\\n",
        "                .sort_values(by=['count'], ascending=False)\n",
        "print(df_in_power)\n",
        "print(df_state_male)\n",
        "print(df_sorted)"
      ],
      "metadata": {
        "colab": {
          "base_uri": "https://localhost:8080/"
        },
        "id": "r0yhuoGCbyms",
        "outputId": "a7f56e9a-2762-43ce-d24b-56450a544a30"
      },
      "execution_count": 75,
      "outputs": [
        {
          "output_type": "stream",
          "name": "stdout",
          "text": [
            "           Name Sex State  Age  WeightClassKg  BestSquatKg  BestBenchKg  \\\n",
            "0      John Doe   M    NY   30            105          150          100   \n",
            "1    Jane Smith   F    CA   25             65           80           70   \n",
            "2  Mike Johnson   M    TX   35             90          200          150   \n",
            "3   Alice Brown   F    FL   28             75           95           80   \n",
            "4     Chris Lee   M    CA   32            100          180          120   \n",
            "5    Sara White   F    NY   29             70           85           75   \n",
            "\n",
            "   BestDeadliftKg  TotalKg  \n",
            "0             200      450  \n",
            "1             120      270  \n",
            "2             250      600  \n",
            "3             140      315  \n",
            "4             220      520  \n",
            "5             130      290  \n",
            "  State  count\n",
            "0    CA      1\n",
            "1    NY      1\n",
            "2    TX      1\n",
            "  State  count\n",
            "0    CA      1\n",
            "1    NY      1\n",
            "2    TX      1\n"
          ]
        }
      ]
    },
    {
      "cell_type": "code",
      "source": [
        "# write in current folder\n",
        "df.to_csv ('./out.csv', index = None, header=True)\n"
      ],
      "metadata": {
        "id": "O_QolypqcvHE"
      },
      "execution_count": 76,
      "outputs": []
    },
    {
      "cell_type": "code",
      "source": [
        "# create data frame\n",
        "df = pd.DataFrame({\"date\": [\"2018-09-24\"], \"ret\":[0.00013123989025119056]})\n",
        "# write to csv\n",
        "df.to_csv(\"out.csv\", sep=',', escapechar='\\\\', quoting=csv.QUOTE_ALL, index=None)\n"
      ],
      "metadata": {
        "id": "3Q5E0dtSh491"
      },
      "execution_count": 85,
      "outputs": []
    },
    {
      "cell_type": "code",
      "source": [
        "df.to_csv('out.csv',sep=' ', quoting=csv.QUOTE_NONE)\n"
      ],
      "metadata": {
        "id": "jSJ6RIhjilt1"
      },
      "execution_count": 86,
      "outputs": []
    },
    {
      "cell_type": "code",
      "source": [
        "num_person = 10\n",
        "print(f\"Type of num_person: {type(num_person)}\")\n",
        "\n"
      ],
      "metadata": {
        "colab": {
          "base_uri": "https://localhost:8080/"
        },
        "id": "-stOTrSjmvNV",
        "outputId": "869a2448-efc6-40de-b04b-2cab918e2dda"
      },
      "execution_count": 87,
      "outputs": [
        {
          "output_type": "stream",
          "name": "stdout",
          "text": [
            "Type of num_person: <class 'int'>\n"
          ]
        }
      ]
    },
    {
      "cell_type": "code",
      "source": [
        "# let's say that df has col_1, col_2, and col_3, but you want only first two columns only\n",
        "df = df_in_power\n",
        "\n",
        "df_new = df[[\"Age\", \"WeightClassKg\"]]\n",
        "print(df_new)\n",
        "\n"
      ],
      "metadata": {
        "colab": {
          "base_uri": "https://localhost:8080/"
        },
        "id": "Zt9KoT6anJ1f",
        "outputId": "392ea5dc-8b79-4c25-9073-fba868ab3b20"
      },
      "execution_count": 96,
      "outputs": [
        {
          "output_type": "stream",
          "name": "stdout",
          "text": [
            "   Age  WeightClassKg\n",
            "0   30            105\n",
            "1   25             65\n",
            "2   35             90\n",
            "3   28             75\n",
            "4   32            100\n",
            "5   29             70\n"
          ]
        }
      ]
    },
    {
      "cell_type": "code",
      "source": [
        "max_age = df[\"Age\"].max()\n",
        "max_weight = df[\"WeightClassKg\"].max()\n",
        "\n",
        "print(f\"Max age: {max_age}\")\n",
        "print(f\"Max weight: {max_weight}\")"
      ],
      "metadata": {
        "colab": {
          "base_uri": "https://localhost:8080/"
        },
        "id": "AQIAbKz0nNfD",
        "outputId": "8b366e0e-b6ac-4b11-ad87-f2818729a7d4"
      },
      "execution_count": 99,
      "outputs": [
        {
          "output_type": "stream",
          "name": "stdout",
          "text": [
            "Max age: 35\n",
            "Max weight: 105\n"
          ]
        }
      ]
    },
    {
      "cell_type": "code",
      "source": [
        "df_grouped = df.groupby(\"Age\").size().to_frame(\"count\").reset_index()\n",
        "\n",
        "print(df_grouped)\n"
      ],
      "metadata": {
        "colab": {
          "base_uri": "https://localhost:8080/"
        },
        "id": "wtUASrFlomhT",
        "outputId": "1f19f1a2-87a6-4fa2-ef20-e79747f916a5"
      },
      "execution_count": 100,
      "outputs": [
        {
          "output_type": "stream",
          "name": "stdout",
          "text": [
            "   Age  count\n",
            "0   25      1\n",
            "1   28      1\n",
            "2   29      1\n",
            "3   30      1\n",
            "4   32      1\n",
            "5   35      1\n"
          ]
        }
      ]
    },
    {
      "cell_type": "code",
      "source": [
        "import pandas as pd\n",
        "\n",
        "# Example DataFrame\n",
        "data = {\n",
        "    \"age_range\": [\"Young\", \"Young\", \"Middle\", \"Middle\", \"Middle\", \"Old\"],\n",
        "    \"department\": [\"HR\", \"IT\", \"HR\", \"Finance\", \"IT\", \"Finance\"],\n",
        "    \"class\": [\"A\", \"B\", \"A\", \"B\", \"C\", \"A\"],\n",
        "    \"salary\": [50000, 60000, 70000, 80000, 55000, 75000],\n",
        "    \"years_experience\": [3, 5, 8, 10, 6, 12]\n",
        "}\n",
        "\n",
        "df = pd.DataFrame(data)\n",
        "\n",
        "# Calculating mean salary by age_range\n",
        "mean_salary_by_age = df.groupby(\"age_range\")[\"salary\"].mean()\n",
        "print(\"Mean salary by age range:\")\n",
        "print(mean_salary_by_age)\n",
        "print()\n",
        "\n",
        "# Summing salaries by department\n",
        "total_salary_by_dept = df.groupby(\"department\")[\"salary\"].sum()\n",
        "print(\"Total salary by department:\")\n",
        "print(total_salary_by_dept)\n",
        "print()\n",
        "\n",
        "# Counting number of employees in each class\n",
        "count_by_class = df.groupby(\"class\").size()\n",
        "print(\"Number of employees in each class:\")\n",
        "print(count_by_class)\n"
      ],
      "metadata": {
        "colab": {
          "base_uri": "https://localhost:8080/"
        },
        "id": "ElUwYFc_qDuj",
        "outputId": "b4fdf987-511e-4483-fe7a-c890bd9169c9"
      },
      "execution_count": 1,
      "outputs": [
        {
          "output_type": "stream",
          "name": "stdout",
          "text": [
            "Mean salary by age range:\n",
            "age_range\n",
            "Middle    68333.333333\n",
            "Old       75000.000000\n",
            "Young     55000.000000\n",
            "Name: salary, dtype: float64\n",
            "\n",
            "Total salary by department:\n",
            "department\n",
            "Finance    155000\n",
            "HR         120000\n",
            "IT         115000\n",
            "Name: salary, dtype: int64\n",
            "\n",
            "Number of employees in each class:\n",
            "class\n",
            "A    3\n",
            "B    2\n",
            "C    1\n",
            "dtype: int64\n"
          ]
        }
      ]
    },
    {
      "cell_type": "code",
      "source": [
        "data = {\n",
        "    \"state\": [\"CA\", \"CA\", \"NY\", \"NY\", \"TX\", \"TX\"],\n",
        "    \"num_vacc\": [100, 120, 80, 90, 110, 130]\n",
        "}\n",
        "\n",
        "df = pd.DataFrame(data)\n",
        "\n",
        "# Group by \"state\" and calculate mean of \"num_vacc\", then reset index\n",
        "df_new = df.groupby(\"state\")[\"num_vacc\"].mean().to_frame(\"count\").reset_index()\n",
        "\n",
        "print(df_new)"
      ],
      "metadata": {
        "colab": {
          "base_uri": "https://localhost:8080/"
        },
        "id": "jEuYSjKwTMDo",
        "outputId": "54c73dbb-feef-438d-d5c9-03fbd18f9971"
      },
      "execution_count": 4,
      "outputs": [
        {
          "output_type": "stream",
          "name": "stdout",
          "text": [
            "  state  count\n",
            "0    CA  110.0\n",
            "1    NY   85.0\n",
            "2    TX  120.0\n"
          ]
        }
      ]
    },
    {
      "cell_type": "code",
      "source": [
        "import pandas as pd\n",
        "\n",
        "# Example DataFrame\n",
        "data = {\n",
        "    \"source\": [\"Twitter\", \"Twitter\", \"Facebook\", \"Instagram\", \"Instagram\", \"Facebook\"],\n",
        "    \"text\": [\"Hello\", \"World\", \"Post\", \"Photo\", \"Video\", \"Like\"],\n",
        "    \"sent\": [0.5, 0.7, 0.6, 0.8, 0.4, 0.9]\n",
        "}\n",
        "\n",
        "df = pd.DataFrame(data)\n",
        "\n",
        "# Group by \"source\", aggregate \"text\" (count) and \"sent\" (mean), rename columns, and reset index\n",
        "df = df.groupby('source') \\\n",
        "       .agg({'text':'size', 'sent':'mean'}) \\\n",
        "       .rename(columns={'text':'count','sent':'mean_sent'}) \\\n",
        "       .reset_index()\n",
        "\n",
        "print(df)\n"
      ],
      "metadata": {
        "colab": {
          "base_uri": "https://localhost:8080/"
        },
        "id": "lCQT9FM0ToDS",
        "outputId": "5eb3589a-90e0-43b8-a2e2-4724075f5567"
      },
      "execution_count": 1,
      "outputs": [
        {
          "output_type": "stream",
          "name": "stdout",
          "text": [
            "      source  count  mean_sent\n",
            "0   Facebook      2       0.75\n",
            "1  Instagram      2       0.60\n",
            "2    Twitter      2       0.60\n"
          ]
        }
      ]
    },
    {
      "cell_type": "code",
      "source": [],
      "metadata": {
        "id": "DNvbK35RUJSj"
      },
      "execution_count": null,
      "outputs": []
    }
  ]
}