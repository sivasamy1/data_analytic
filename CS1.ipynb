{
  "nbformat": 4,
  "nbformat_minor": 0,
  "metadata": {
    "colab": {
      "provenance": [],
      "authorship_tag": "ABX9TyMKPh+AaLkk6fFUmKQvFkbp",
      "include_colab_link": true
    },
    "kernelspec": {
      "name": "python3",
      "display_name": "Python 3"
    },
    "language_info": {
      "name": "python"
    }
  },
  "cells": [
    {
      "cell_type": "markdown",
      "metadata": {
        "id": "view-in-github",
        "colab_type": "text"
      },
      "source": [
        "<a href=\"https://colab.research.google.com/github/sivasamy1/data_analytic/blob/main/CS1.ipynb\" target=\"_parent\"><img src=\"https://colab.research.google.com/assets/colab-badge.svg\" alt=\"Open In Colab\"/></a>"
      ]
    },
    {
      "cell_type": "code",
      "execution_count": 20,
      "metadata": {
        "id": "W4BZGaNvpek9"
      },
      "outputs": [],
      "source": [
        "# import all necessary lib\n",
        "\n",
        "import pandas as pd\n",
        "from tabulate import tabulate\n",
        "import traceback\n",
        "import numpy as np\n",
        "import matplotlib.pyplot as plt\n",
        "from requests import get\n",
        "import requests\n",
        "import os"
      ]
    },
    {
      "cell_type": "code",
      "source": [
        "#list\n",
        "\n",
        "lst_names = []\n",
        "lst_cities = [\"Banglore\", \"Chennai\", \"SFO\", \"beijing\"]\n",
        "lst_cities.append(\"NYC\")\n",
        "lst_age = [10, 20]\n",
        "lst_age.append(30)\n",
        "for val in lst_cities:\n",
        "  print(val)\n",
        "if \"SFO\" in lst_cities:\n",
        "  print(\"yes\")\n",
        "else:\n",
        "  print(\"no\")\n"
      ],
      "metadata": {
        "colab": {
          "base_uri": "https://localhost:8080/"
        },
        "id": "Ocdhj3e-qY5G",
        "outputId": "78fdfde5-c565-466e-9802-a55d08a9a098"
      },
      "execution_count": 21,
      "outputs": [
        {
          "output_type": "stream",
          "name": "stdout",
          "text": [
            "Banglore\n",
            "Chennai\n",
            "SFO\n",
            "beijing\n",
            "NYC\n",
            "yes\n"
          ]
        }
      ]
    },
    {
      "cell_type": "code",
      "source": [
        "#Iterate list values along with index\n",
        "\n",
        "lst_pets = [\"dog\", \"cat\"]\n",
        "for i, value in enumerate(lst_pets):\n",
        "  print(f\"At index {i}, the value in the list is {value}\")\n",
        "\n"
      ],
      "metadata": {
        "id": "2MTrfpOerQNf",
        "colab": {
          "base_uri": "https://localhost:8080/"
        },
        "outputId": "a1f932fa-3ce8-4f40-f568-0c5df1a94c83"
      },
      "execution_count": 22,
      "outputs": [
        {
          "output_type": "stream",
          "name": "stdout",
          "text": [
            "At index 0, the value in the list is dog\n",
            "At index 1, the value in the list is cat\n"
          ]
        }
      ]
    },
    {
      "cell_type": "code",
      "source": [
        "#set\n",
        "\n",
        "# empty set\n",
        "set_names = ()\n",
        "# Set with some string values in it\n",
        "set_cities = [\"Bangalore\", \"Chennai\", \"SFO\", \"Beijing\"]\n",
        "# append to existing list\n",
        "set_cities.append(\"NYC\")\n",
        "# list with some integer values\n",
        "set_age = [10, 20]\n",
        "# append an integer to the existing list\n",
        "set_age.append(30)\n",
        "print(set_cities)\n",
        "print(set_age)\n",
        "\n"
      ],
      "metadata": {
        "id": "D6StGjXYqoVk",
        "colab": {
          "base_uri": "https://localhost:8080/"
        },
        "outputId": "89d7530b-542e-4678-eef9-98d621101115"
      },
      "execution_count": 23,
      "outputs": [
        {
          "output_type": "stream",
          "name": "stdout",
          "text": [
            "['Bangalore', 'Chennai', 'SFO', 'Beijing', 'NYC']\n",
            "[10, 20, 30]\n"
          ]
        }
      ]
    },
    {
      "cell_type": "code",
      "source": [
        "#dictionary\n",
        "\n",
        "# declare dictionary\n",
        "dict_data = {}\n",
        "# insert a empty list into the dictionary\n",
        "dict_data['pet'] = []\n",
        "# append/add a list of dict to the list\n",
        "dict_data['pet'].append({\n",
        "   'name': 'Dog',\n",
        "   'website': 'dog.com',\n",
        "   'from': 'San Francisco'\n",
        "})\n",
        "dict_data['pet'].append({\n",
        "   'name': 'Cat',\n",
        "   'website': 'hellokitty.com',\n",
        "   'from': 'Seattle'\n",
        "})\n",
        "print(dict_data)\n"
      ],
      "metadata": {
        "id": "kZMZs6JwVKsa",
        "colab": {
          "base_uri": "https://localhost:8080/"
        },
        "outputId": "e155fed3-1534-4a4d-fd70-999fe10a154e"
      },
      "execution_count": 24,
      "outputs": [
        {
          "output_type": "stream",
          "name": "stdout",
          "text": [
            "{'pet': [{'name': 'Dog', 'website': 'dog.com', 'from': 'San Francisco'}, {'name': 'Cat', 'website': 'hellokitty.com', 'from': 'Seattle'}]}\n"
          ]
        }
      ]
    },
    {
      "cell_type": "code",
      "source": [
        "#len(df) function\n",
        "\n",
        "# list having different pet types\n",
        "lst_pet_types = [\"cat\", \"dog\", \"horse\"]\n",
        "# returns number of elements in the list\n",
        "c_pet_types = len(lst_pet_types)\n",
        "# prints 3\n",
        "print(f\"# pet types: {c_pet_types}\")\n",
        "# Using len() for dictionary\n",
        "dict_pets = {\"name\": \"dog\", \"age\": 2}\n",
        "# returns number of keys in the dictionary\n",
        "c_pets = len(dict_pets)\n",
        "# prints 2\n",
        "print(f\"# pets: {c_pets}\")\n",
        "dict_pets = {\"pets\": [{\"name\": \"dog\", \"age\": 2}, {\"name\": \"dog\", \"age\": 2}]}\n",
        "dict_p_h = {\"pets\": [{\"name\": \"dog\", \"age\": 2}, {\"name\": \"dog\", \"age\": 2}],\n",
        "           \"persons\": [{\"name\": \"ram\", \"age\": 12}, {\"name\": \"kumaran\", \"age\": 11}]}\n",
        "# returns number of keys in the dictionary\n",
        "c_pets, c_humans = len(dict_pets), len(dict_p_h)\n",
        "# prints 1\n",
        "print(f\"# pets: {c_pets} ; # humans: {c_humans}\")\n",
        "# get only keys from the dictionary\n",
        "lst_keys = [*dict_p_h]\n",
        "# get only values from the dictionary\n",
        "lst_values = [*dict_p_h.values()]\n",
        "# prints\n",
        "print(f\"# keys: {len(lst_keys)} | # values: {len(lst_values)}\")\n",
        "print(f\"keys: {lst_keys} | values: {lst_values}\")\n",
        "\n"
      ],
      "metadata": {
        "colab": {
          "base_uri": "https://localhost:8080/"
        },
        "id": "r4cqrUpBVPE2",
        "outputId": "0a050901-8857-425c-fd87-62725aff9f94"
      },
      "execution_count": 25,
      "outputs": [
        {
          "output_type": "stream",
          "name": "stdout",
          "text": [
            "# pet types: 3\n",
            "# pets: 2\n",
            "# pets: 1 ; # humans: 2\n",
            "# keys: 2 | # values: 2\n",
            "keys: ['pets', 'persons'] | values: [[{'name': 'dog', 'age': 2}, {'name': 'dog', 'age': 2}], [{'name': 'ram', 'age': 12}, {'name': 'kumaran', 'age': 11}]]\n"
          ]
        }
      ]
    },
    {
      "cell_type": "code",
      "source": [
        "#rename columns of dataframe\n",
        "df = pd.DataFrame(dict_p_h)\n",
        "print(df.columns)\n",
        "\n",
        "# access each column individually\n",
        "for col in df.columns:\n",
        "    print(col)\n",
        "\n",
        "# assign new names to df.columns\n",
        "df.columns = ['Animals', 'Humans']\n",
        "print(df.columns)\n",
        "print(df)"
      ],
      "metadata": {
        "colab": {
          "base_uri": "https://localhost:8080/"
        },
        "id": "xJwH_VzyVWeB",
        "outputId": "8cd52a61-52dc-4878-9974-6558229026c2"
      },
      "execution_count": 49,
      "outputs": [
        {
          "output_type": "stream",
          "name": "stdout",
          "text": [
            "Index(['pets', 'persons'], dtype='object')\n",
            "pets\n",
            "persons\n",
            "Index(['Animals', 'Humans'], dtype='object')\n",
            "                     Animals                          Humans\n",
            "0  {'name': 'dog', 'age': 2}      {'name': 'ram', 'age': 12}\n",
            "1  {'name': 'dog', 'age': 2}  {'name': 'kumaran', 'age': 11}\n"
          ]
        }
      ]
    },
    {
      "cell_type": "code",
      "source": [
        "# delete a column\n",
        "df = df.drop(columns=['Animals'])\n",
        "print(df)"
      ],
      "metadata": {
        "id": "Lh7pRQNWVtIu",
        "colab": {
          "base_uri": "https://localhost:8080/"
        },
        "outputId": "f09d560e-8e6a-4d02-efe6-172d1360723b"
      },
      "execution_count": 50,
      "outputs": [
        {
          "output_type": "stream",
          "name": "stdout",
          "text": [
            "                           Humans\n",
            "0      {'name': 'ram', 'age': 12}\n",
            "1  {'name': 'kumaran', 'age': 11}\n"
          ]
        }
      ]
    },
    {
      "cell_type": "code",
      "source": [
        "# strip() - removes a leading or trailing blank space\n",
        "txt = \"     Moscow      \"\n",
        "str_clean = txt.strip()\n",
        "print(f\"From weather reort, {str_clean} is too cold most of the times\")\n"
      ],
      "metadata": {
        "colab": {
          "base_uri": "https://localhost:8080/"
        },
        "id": "Gm9vAQFznBJe",
        "outputId": "01a33092-6833-4f9c-d394-cfced06a8bc2"
      },
      "execution_count": 55,
      "outputs": [
        {
          "output_type": "stream",
          "name": "stdout",
          "text": [
            "From weather reort, Moscow is too cold most of the times\n"
          ]
        }
      ]
    },
    {
      "cell_type": "code",
      "source": [
        "#join()\n",
        "\n",
        "lst_items = ['rambo', 'dog', 'chennai']\n",
        "str = ','.join(lst_items)\n",
        "print(str)\n",
        "print(lst_items)"
      ],
      "metadata": {
        "colab": {
          "base_uri": "https://localhost:8080/"
        },
        "id": "2yTXATLZpPku",
        "outputId": "fc87355e-2c81-4d31-b1d1-900838900cb9"
      },
      "execution_count": 57,
      "outputs": [
        {
          "output_type": "stream",
          "name": "stdout",
          "text": [
            "rambo,dog,chennai\n",
            "['rambo', 'dog', 'chennai']\n"
          ]
        }
      ]
    },
    {
      "cell_type": "code",
      "source": [],
      "metadata": {
        "id": "hJSbskyMq4nS"
      },
      "execution_count": null,
      "outputs": []
    }
  ]
}