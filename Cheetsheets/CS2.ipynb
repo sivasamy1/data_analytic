{
  "nbformat": 4,
  "nbformat_minor": 0,
  "metadata": {
    "colab": {
      "provenance": [],
      "authorship_tag": "ABX9TyMiE+IGOJgavsZWM4Hyy5cV",
      "include_colab_link": true
    },
    "kernelspec": {
      "name": "python3",
      "display_name": "Python 3"
    },
    "language_info": {
      "name": "python"
    }
  },
  "cells": [
    {
      "cell_type": "markdown",
      "metadata": {
        "id": "view-in-github",
        "colab_type": "text"
      },
      "source": [
        "<a href=\"https://colab.research.google.com/github/sivasamy1/data_analytic/blob/main/CS2.ipynb\" target=\"_parent\"><img src=\"https://colab.research.google.com/assets/colab-badge.svg\" alt=\"Open In Colab\"/></a>"
      ]
    },
    {
      "cell_type": "code",
      "source": [
        "import os\n",
        "\n",
        "# directory name that may exist in current directory\n",
        "directory = \"sample_data\"\n",
        "\n",
        "# file name that may exist in current directory\n",
        "file_name = \"anscombe.json\"\n",
        "\n",
        "# returns True if dir exists\n",
        "print(\"is dir? \" + str(os.path.isdir(directory)))\n",
        "\n",
        "# returns True if file_name exists\n",
        "print(\"is file? \" + str(os.path.isfile(file_name)))\n",
        "\n",
        "# returns True (if dir is either file name or directory name that exists)\n",
        "print(\"does it exist? \" + str(os.path.exists(directory)))\n",
        "\n",
        "if os.path.isfile(file_name):\n",
        "\n",
        "   # returns the size of a file without opening it.\n",
        "   print(\"file size: \" + str(os.path.getsize(file_name)))\n",
        "else:\n",
        "   print(\"not a file to calculate size\")\n",
        "\n",
        "print(\"GET THREE DIFFERENT TYPE OF PATHS\")\n",
        "\n",
        "# declare file path\n",
        "path_file = \"/content/sample_data\"\n",
        "\n",
        "# return basename of path (outputs \"data.txt\")\n",
        "print(os.path.basename(path_file))\n",
        "\n",
        "# return directory name of a path\n",
        "# output -> \"/Users/lenin/Downloads\"\n",
        "print(os.path.dirname(path_file))\n",
        "\n",
        "# return absolute path of a file\n",
        "# output -> \"/Users/lenin/Downloads/data.txt\"\n",
        "print(os.path.abspath(path_file))\n",
        "\n"
      ],
      "metadata": {
        "colab": {
          "base_uri": "https://localhost:8080/"
        },
        "id": "sURc9eo4n4rZ",
        "outputId": "dc88f056-73bc-4f9c-c40a-b2db0bd221b1"
      },
      "execution_count": null,
      "outputs": [
        {
          "output_type": "stream",
          "name": "stdout",
          "text": [
            "is dir? True\n",
            "is file? False\n",
            "does it exist? True\n",
            "not a file to calculate size\n",
            "GET THREE DIFFERENT TYPE OF PATHS\n",
            "sample_data\n",
            "/content\n",
            "/content/sample_data\n"
          ]
        }
      ]
    },
    {
      "cell_type": "code",
      "source": [
        "lst_files = os.listdir('/content/sample_data')\n",
        "print(lst_files)"
      ],
      "metadata": {
        "id": "ORLB7H2Xoxmm",
        "colab": {
          "base_uri": "https://localhost:8080/"
        },
        "outputId": "6a60c595-1f66-4ee6-ab99-8013b5e1baec"
      },
      "execution_count": null,
      "outputs": [
        {
          "output_type": "stream",
          "name": "stdout",
          "text": [
            "['README.md', 'anscombe.json', 'mnist_test.csv', 'california_housing_train.csv', 'mnist_train_small.csv', 'california_housing_test.csv']\n"
          ]
        }
      ]
    },
    {
      "cell_type": "code",
      "source": [
        "# run terminal command \"ls -ltr\"\n",
        "str_list_files = os.popen(\"ls -ltr\").read() # This will run the command and return any output\n",
        "print(str_list_files)\n",
        "# prints \"str\"\n",
        "print(type(str_list_files))\n"
      ],
      "metadata": {
        "id": "Ab1NE2B2qd40",
        "colab": {
          "base_uri": "https://localhost:8080/"
        },
        "outputId": "4527977f-a85b-42f3-8fc7-c8a80c9b7cc6"
      },
      "execution_count": null,
      "outputs": [
        {
          "output_type": "stream",
          "name": "stdout",
          "text": [
            "total 4\n",
            "drwxr-xr-x 1 root root 4096 Jul 11 13:22 sample_data\n",
            "\n",
            "<class 'str'>\n"
          ]
        }
      ]
    },
    {
      "cell_type": "code",
      "source": [
        "\"\"\"JavaScript Object Notation (JSON)\n",
        "Standard text-based format for representing structured data based on JavaScript object syntax. It is interchangeable between programming languages as it is just a representation of Example JSON file content\"\"\"\n",
        "\n",
        "# Dict to JSON example one\n",
        "import json\n",
        "# dictionary data to convert as a JSON object\n",
        "dict_pets = {1: 'dog', 2: 'cat',\n",
        "            3: 'horse', 4: 'elephant',\n",
        "            5: 'tiger'}\n",
        "# prints \"dict\"\n",
        "print(type(dict_pets))\n",
        "# save as JSON object\n",
        "js_data = json.dumps(dict_pets)\n",
        "# prints \"dict\"\n",
        "print(type(dict_pets))\n",
        "# prints with '' for key-value (wrong json)\n",
        "print(dict_pets)\n",
        "# prints with \"\" for key-value (correct json)\n",
        "print(js_data)\n",
        "\n",
        "\n"
      ],
      "metadata": {
        "colab": {
          "base_uri": "https://localhost:8080/"
        },
        "id": "oQb_dssMryuZ",
        "outputId": "6941333d-4c3a-4fc6-db6c-731d7c5894af"
      },
      "execution_count": null,
      "outputs": [
        {
          "output_type": "stream",
          "name": "stdout",
          "text": [
            "<class 'dict'>\n",
            "<class 'dict'>\n",
            "{1: 'dog', 2: 'cat', 3: 'horse', 4: 'elephant', 5: 'tiger'}\n",
            "{\"1\": \"dog\", \"2\": \"cat\", \"3\": \"horse\", \"4\": \"elephant\", \"5\": \"tiger\"}\n"
          ]
        }
      ]
    },
    {
      "cell_type": "code",
      "source": [
        "# Dict to JSON example two\n",
        "import json\n",
        "\n",
        "dict_data = {}\n",
        "# insert a empty list into the dictionary\n",
        "dict_data['pet'] = []\n",
        "# append/add a list of dict to the list\n",
        "dict_data['pet'].append({\n",
        "   'name': 'Dog',\n",
        "   'website': 'dog.com',\n",
        "   'from': 'San Francisco'\n",
        "})\n",
        "dict_data['pet'].append({\n",
        "   'name': 'Cat',\n",
        "   'website': 'hellokitty.com',\n",
        "   'from': 'Seattle'\n",
        "})\n",
        "\n",
        "# variable \"dict_data\" declared on top of this cheat sheet\n",
        "# prints \"dict\"\n",
        "with open('data.json', 'w') as outfile:\n",
        "   # write \"dict_data\" object content to output file as JSON\n",
        "   json.dump(dict_data, outfile)\n"
      ],
      "metadata": {
        "id": "RAiZzx6SuXMB"
      },
      "execution_count": null,
      "outputs": []
    },
    {
      "cell_type": "code",
      "source": [
        "import os\n",
        "import json\n",
        "# json file name with/without path\n",
        "path_in_pet = \"data.json\"\n",
        "# check if file exists\n",
        "if os.path.exists(path_in_pet):\n",
        "   # open in read mode\n",
        "   with open(path_in_pet, 'r') as f:\n",
        "       # read data\n",
        "       dict_data = json.load(f)\n",
        "       # prints dict\n",
        "       print(type(dict_data))\n",
        "       # print content\n",
        "       print(dict_data)\n",
        "\n"
      ],
      "metadata": {
        "id": "s8HOc6miunBl",
        "colab": {
          "base_uri": "https://localhost:8080/"
        },
        "outputId": "31581652-c20c-4c76-b1d1-c21131c9ddbf"
      },
      "execution_count": null,
      "outputs": [
        {
          "output_type": "stream",
          "name": "stdout",
          "text": [
            "<class 'dict'>\n",
            "{'pet': [{'name': 'Dog', 'website': 'dog.com', 'from': 'San Francisco'}, {'name': 'Cat', 'website': 'hellokitty.com', 'from': 'Seattle'}]}\n"
          ]
        }
      ]
    },
    {
      "cell_type": "code",
      "source": [
        "import pandas as pd\n",
        "\n",
        "# Assuming df is your pandas DataFrame\n",
        "df = pd.DataFrame({'col1': [1.1, 2.2, 3.3]})\n",
        "\n",
        "# Convert 'col1' to int32\n",
        "df = df.astype({'col1': 'int32'})\n",
        "\n",
        "# Print the data types after conversion\n",
        "print(df.dtypes)\n"
      ],
      "metadata": {
        "id": "0Nh3GA0uT3cg",
        "colab": {
          "base_uri": "https://localhost:8080/"
        },
        "outputId": "ec63518f-5a2e-41bd-9c06-de358c1a7579"
      },
      "execution_count": null,
      "outputs": [
        {
          "output_type": "stream",
          "name": "stdout",
          "text": [
            "col1    int32\n",
            "dtype: object\n"
          ]
        }
      ]
    },
    {
      "cell_type": "code",
      "source": [
        "# int to string\n",
        "age = 20\n",
        "\n",
        "# int to float\n",
        "salary = 10\n",
        "f_salary = float(salary)\n",
        "# float to int\n",
        "salary = 10.11\n",
        "# convert to integer\n",
        "i_salary = int(salary)\n",
        "\n",
        "print(\"age is \" + str(age))\n",
        "print(\"salary is \" + str(salary))\n",
        "print(\"f_salary is \" + str(f_salary))\n",
        "print(\"i_salary is \" + str(i_salary))\n"
      ],
      "metadata": {
        "colab": {
          "base_uri": "https://localhost:8080/"
        },
        "id": "6G8vciEYMIkW",
        "outputId": "ab0decb5-a1d7-4fe3-e6f4-b242ef71f571"
      },
      "execution_count": null,
      "outputs": [
        {
          "output_type": "stream",
          "name": "stdout",
          "text": [
            "age is 20\n",
            "salary is 10.11\n",
            "f_salary is 10.0\n",
            "i_salary is 10\n"
          ]
        }
      ]
    },
    {
      "cell_type": "code",
      "source": [
        "def to_lowercase(in_str):\n",
        "   return str(in_str).lower()\n",
        "# text to be converted\n",
        "text = \"How are you?\"\n",
        "# convert string to lowercase\n",
        "text = to_lowercase(text)\n",
        "print(text)\n"
      ],
      "metadata": {
        "colab": {
          "base_uri": "https://localhost:8080/"
        },
        "id": "6ax35Ue5N5Pi",
        "outputId": "540d335a-5454-4179-ed52-560cb1ee7217"
      },
      "execution_count": null,
      "outputs": [
        {
          "output_type": "stream",
          "name": "stdout",
          "text": [
            "how are you?\n"
          ]
        }
      ]
    },
    {
      "cell_type": "code",
      "source": [
        "text = \"This is first line \\nThis is second line\"\n",
        "print(text)\n",
        "# replace new line with blank space\n",
        "text_clean = text.replace(\"\\n\", \"\")\n",
        "print(text_clean)\n",
        "\n"
      ],
      "metadata": {
        "colab": {
          "base_uri": "https://localhost:8080/"
        },
        "id": "HICSsZClOo0P",
        "outputId": "a09b843d-296a-47a4-8ee2-2729128c7f5a"
      },
      "execution_count": null,
      "outputs": [
        {
          "output_type": "stream",
          "name": "stdout",
          "text": [
            "This is first line \n",
            "This is second line\n",
            "This is first line This is second line\n"
          ]
        }
      ]
    },
    {
      "cell_type": "code",
      "source": [
        "import re\n",
        "in_str = \"Hi, Where are you from?\"\n",
        "str_clean = re.sub(r'\\W+', ' ', in_str)\n",
        "# prints -> Hi Where are you from\n",
        "print(str_clean)\n",
        "\n"
      ],
      "metadata": {
        "colab": {
          "base_uri": "https://localhost:8080/"
        },
        "id": "YcNiMNM-Otq-",
        "outputId": "6207607b-1871-473c-efc4-5d178c51b946"
      },
      "execution_count": null,
      "outputs": [
        {
          "output_type": "stream",
          "name": "stdout",
          "text": [
            "Hi Where are you from \n"
          ]
        }
      ]
    },
    {
      "cell_type": "code",
      "source": [
        "import pandas as pd\n",
        "\n",
        "# Sample DataFrame\n",
        "data = {'name': ['Alice', 'Bob', 'Charlie', 'David'],\n",
        "        'age': [20, 30, 25, 40]}\n",
        "df = pd.DataFrame(data)\n",
        "\n",
        "# Calculate maximum age in the dataframe\n",
        "max_age = df[\"age\"].max()\n",
        "\n",
        "# Normalize age and create a new column\n",
        "df[\"age_normalized\"] = df[\"age\"] / max_age\n",
        "\n",
        "# Print the original and normalized DataFrame\n",
        "print(\"Original DataFrame:\")\n",
        "print(df)\n",
        "\n",
        "# Accessing individual values\n",
        "print(\"\\nAccessing individual normalized values:\")\n",
        "for index, row in df.iterrows():\n",
        "    print(f\"Name: {row['name']}, Normalized Age: {row['age_normalized']}\")\n"
      ],
      "metadata": {
        "colab": {
          "base_uri": "https://localhost:8080/"
        },
        "id": "3kcT4P6QQHsh",
        "outputId": "d43367c6-1449-4fd9-b56b-77b9639aea3e"
      },
      "execution_count": null,
      "outputs": [
        {
          "output_type": "stream",
          "name": "stdout",
          "text": [
            "Original DataFrame:\n",
            "      name  age  age_normalized\n",
            "0    Alice   20           0.500\n",
            "1      Bob   30           0.750\n",
            "2  Charlie   25           0.625\n",
            "3    David   40           1.000\n",
            "\n",
            "Accessing individual normalized values:\n",
            "Name: Alice, Normalized Age: 0.5\n",
            "Name: Bob, Normalized Age: 0.75\n",
            "Name: Charlie, Normalized Age: 0.625\n",
            "Name: David, Normalized Age: 1.0\n"
          ]
        }
      ]
    },
    {
      "cell_type": "code",
      "source": [
        "import pandas as pd\n",
        "from tabulate import tabulate\n",
        "\n",
        "# Function to pretty print DataFrame\n",
        "def pretty_print(title, df, max_rows=None):\n",
        "    print(f\"\\n{title}\\n\")\n",
        "    if max_rows:\n",
        "        print(tabulate(df.head(max_rows), headers='keys', tablefmt='psql'))\n",
        "    else:\n",
        "        print(tabulate(df, headers='keys', tablefmt='psql'))\n",
        "\n",
        "# First DataFrame (df_1)\n",
        "df_1 = pd.DataFrame({\n",
        "    'id': ['A01', 'A02', 'A03', 'A04'],\n",
        "    'Name': ['Dog', 'Cat', 'Eagle', 'Peacock']\n",
        "})\n",
        "\n",
        "# Print df_1\n",
        "pretty_print(\"df_1:\", df_1, 10)\n",
        "\n",
        "# Second DataFrame (df_2)\n",
        "df_2 = pd.DataFrame({\n",
        "    'id': ['A01', 'A06', 'A02', 'A07'],\n",
        "    'City': ['SFO', 'Chennai', 'NYC', 'Bangalore'],\n",
        "    'Age': ['12', '13', '14', '12']\n",
        "})\n",
        "\n",
        "# Print df_2\n",
        "pretty_print(\"df_2:\", df_2, 10)\n",
        "\n",
        "# Outer join => outputs all rows from both dataframes\n",
        "df_outer = pd.merge(df_1, df_2, on='id', how='outer')\n",
        "pretty_print(\"Merged Outer Join:\", df_outer, 10)\n",
        "\n",
        "# Inner join (equi join) => outputs common intersect\n",
        "df_inner = pd.merge(df_1, df_2, on='id', how='inner')\n",
        "pretty_print(\"Merged Inner Join:\", df_inner, 10)\n",
        "\n",
        "# Merge with different column names\n",
        "df_new = pd.merge(df_1, df_2, left_on='id', right_on='id', how='inner')\n",
        "pretty_print(\"Merged Inner Join (Different Column Names):\", df_new, 10)\n"
      ],
      "metadata": {
        "colab": {
          "base_uri": "https://localhost:8080/"
        },
        "id": "T-zT3AZZUHaW",
        "outputId": "7c905870-ab71-48a2-ce80-cde3c72d9fb3"
      },
      "execution_count": null,
      "outputs": [
        {
          "output_type": "stream",
          "name": "stdout",
          "text": [
            "\n",
            "df_1:\n",
            "\n",
            "+----+------+---------+\n",
            "|    | id   | Name    |\n",
            "|----+------+---------|\n",
            "|  0 | A01  | Dog     |\n",
            "|  1 | A02  | Cat     |\n",
            "|  2 | A03  | Eagle   |\n",
            "|  3 | A04  | Peacock |\n",
            "+----+------+---------+\n",
            "\n",
            "df_2:\n",
            "\n",
            "+----+------+-----------+-------+\n",
            "|    | id   | City      |   Age |\n",
            "|----+------+-----------+-------|\n",
            "|  0 | A01  | SFO       |    12 |\n",
            "|  1 | A06  | Chennai   |    13 |\n",
            "|  2 | A02  | NYC       |    14 |\n",
            "|  3 | A07  | Bangalore |    12 |\n",
            "+----+------+-----------+-------+\n",
            "\n",
            "Merged Outer Join:\n",
            "\n",
            "+----+------+---------+-----------+-------+\n",
            "|    | id   | Name    | City      |   Age |\n",
            "|----+------+---------+-----------+-------|\n",
            "|  0 | A01  | Dog     | SFO       |    12 |\n",
            "|  1 | A02  | Cat     | NYC       |    14 |\n",
            "|  2 | A03  | Eagle   | nan       |   nan |\n",
            "|  3 | A04  | Peacock | nan       |   nan |\n",
            "|  4 | A06  | nan     | Chennai   |    13 |\n",
            "|  5 | A07  | nan     | Bangalore |    12 |\n",
            "+----+------+---------+-----------+-------+\n",
            "\n",
            "Merged Inner Join:\n",
            "\n",
            "+----+------+--------+--------+-------+\n",
            "|    | id   | Name   | City   |   Age |\n",
            "|----+------+--------+--------+-------|\n",
            "|  0 | A01  | Dog    | SFO    |    12 |\n",
            "|  1 | A02  | Cat    | NYC    |    14 |\n",
            "+----+------+--------+--------+-------+\n",
            "\n",
            "Merged Inner Join (Different Column Names):\n",
            "\n",
            "+----+------+--------+--------+-------+\n",
            "|    | id   | Name   | City   |   Age |\n",
            "|----+------+--------+--------+-------|\n",
            "|  0 | A01  | Dog    | SFO    |    12 |\n",
            "|  1 | A02  | Cat    | NYC    |    14 |\n",
            "+----+------+--------+--------+-------+\n"
          ]
        }
      ]
    },
    {
      "cell_type": "code",
      "source": [
        "import pandas as pd\n",
        "from tabulate import tabulate\n",
        "\n",
        "# first df\n",
        "df_1 = pd.DataFrame({'id': ['A01', 'A02', 'A03', 'A04'],\n",
        "                   'Name': ['Dog', 'Cat', 'Eagle', 'Peacock']\n",
        "                    })\n",
        "pretty_print(\"df_1:\", df_1, 10)\n",
        "\n",
        "# second df\n",
        "df_2 = pd.DataFrame({\n",
        "                   'id' : ['A01', 'A06', 'A02', 'A07'],\n",
        "                   'City': ['SFO', 'Chennai', 'NYC', 'Bangalore'],\n",
        "                   'Age': ['12', '13', '14', '12']})\n",
        "pretty_print(\"df_2:\", df_2, 10)\n",
        "\n",
        "# LEFT JOIN => takes all the values from df1, if it exists on the df2 puts it values, otherwise nan\n",
        "df_new = df_1.merge(df_2, left_on=['id'], right_on = ['id'], how='left')\n",
        "pretty_print(\"left join:\", df_new, 10)\n",
        "\n",
        "# find rows in df2 which are not in df1\n",
        "df_na = df_new[df_new[\"City\"].isna()]\n",
        "pretty_print(\"rows in df2 which are not in df1:\", df_na, 10)\n",
        "\n"
      ],
      "metadata": {
        "colab": {
          "base_uri": "https://localhost:8080/"
        },
        "id": "T3fYNmUrUjWn",
        "outputId": "d6ad8364-b39a-477b-fce9-80b33681e52b"
      },
      "execution_count": null,
      "outputs": [
        {
          "output_type": "stream",
          "name": "stdout",
          "text": [
            "\n",
            "df_1:\n",
            "\n",
            "+----+------+---------+\n",
            "|    | id   | Name    |\n",
            "|----+------+---------|\n",
            "|  0 | A01  | Dog     |\n",
            "|  1 | A02  | Cat     |\n",
            "|  2 | A03  | Eagle   |\n",
            "|  3 | A04  | Peacock |\n",
            "+----+------+---------+\n",
            "\n",
            "df_2:\n",
            "\n",
            "+----+------+-----------+-------+\n",
            "|    | id   | City      |   Age |\n",
            "|----+------+-----------+-------|\n",
            "|  0 | A01  | SFO       |    12 |\n",
            "|  1 | A06  | Chennai   |    13 |\n",
            "|  2 | A02  | NYC       |    14 |\n",
            "|  3 | A07  | Bangalore |    12 |\n",
            "+----+------+-----------+-------+\n",
            "\n",
            "left join:\n",
            "\n",
            "+----+------+---------+--------+-------+\n",
            "|    | id   | Name    | City   |   Age |\n",
            "|----+------+---------+--------+-------|\n",
            "|  0 | A01  | Dog     | SFO    |    12 |\n",
            "|  1 | A02  | Cat     | NYC    |    14 |\n",
            "|  2 | A03  | Eagle   | nan    |   nan |\n",
            "|  3 | A04  | Peacock | nan    |   nan |\n",
            "+----+------+---------+--------+-------+\n",
            "\n",
            "rows in df2 which are not in df1:\n",
            "\n",
            "+----+------+---------+--------+-------+\n",
            "|    | id   | Name    |   City |   Age |\n",
            "|----+------+---------+--------+-------|\n",
            "|  2 | A03  | Eagle   |    nan |   nan |\n",
            "|  3 | A04  | Peacock |    nan |   nan |\n",
            "+----+------+---------+--------+-------+\n"
          ]
        }
      ]
    }
  ]
}
