{
  "nbformat": 4,
  "nbformat_minor": 0,
  "metadata": {
    "colab": {
      "provenance": [],
      "mount_file_id": "1lwaV_cCwMSMwG-LkOw_onB0Wcts3Xtpl",
      "authorship_tag": "ABX9TyOLoSvFoUoQqsEXS8SIwC/U",
      "include_colab_link": true
    },
    "kernelspec": {
      "name": "python3",
      "display_name": "Python 3"
    },
    "language_info": {
      "name": "python"
    }
  },
  "cells": [
    {
      "cell_type": "markdown",
      "metadata": {
        "id": "view-in-github",
        "colab_type": "text"
      },
      "source": [
        "<a href=\"https://colab.research.google.com/github/sivasamy1/data_analytic/blob/main/covid_miniproject.ipynb\" target=\"_parent\"><img src=\"https://colab.research.google.com/assets/colab-badge.svg\" alt=\"Open In Colab\"/></a>"
      ]
    },
    {
      "cell_type": "code",
      "execution_count": 2,
      "metadata": {
        "id": "TBlDffDLjimA"
      },
      "outputs": [],
      "source": [
        "import pandas as pd\n",
        "df = pd.read_csv(\"/content/drive/MyDrive/data_analytics/covid/us-counties-recent.csv\")"
      ]
    },
    {
      "cell_type": "code",
      "source": [
        "print(df)"
      ],
      "metadata": {
        "colab": {
          "base_uri": "https://localhost:8080/"
        },
        "id": "QD0nL1g15vqQ",
        "outputId": "32148573-0b7b-48be-9bee-d97156359020"
      },
      "execution_count": 3,
      "outputs": [
        {
          "output_type": "stream",
          "name": "stdout",
          "text": [
            "             date      county    state     fips  cases  deaths\n",
            "0      2021-12-11     Autauga  Alabama   1001.0  10596   158.0\n",
            "1      2021-12-11     Baldwin  Alabama   1003.0  38307   591.0\n",
            "2      2021-12-11     Barbour  Alabama   1005.0   3716    81.0\n",
            "3      2021-12-11        Bibb  Alabama   1007.0   4379    95.0\n",
            "4      2021-12-11      Blount  Alabama   1009.0  10857   193.0\n",
            "...           ...         ...      ...      ...    ...     ...\n",
            "97515  2022-01-09  Sweetwater  Wyoming  56037.0   8506   110.0\n",
            "97516  2022-01-09       Teton  Wyoming  56039.0   7025    14.0\n",
            "97517  2022-01-09       Uinta  Wyoming  56041.0   4264    34.0\n",
            "97518  2022-01-09    Washakie  Wyoming  56043.0   1914    39.0\n",
            "97519  2022-01-09      Weston  Wyoming  56045.0   1263    16.0\n",
            "\n",
            "[97520 rows x 6 columns]\n"
          ]
        }
      ]
    },
    {
      "cell_type": "code",
      "source": [
        "df_deaths_in_2021 = df[(df['date'] >= '2021-01-01') & (df['date'] <= '2021-12-31')]\n",
        "print(df_deaths_in_2021)\n",
        "df_top_10_counties_2021 = df_deaths_in_2021.groupby('state')['deaths'].sum().nlargest(10)\n",
        "print(df_top_10_counties_2021)\n"
      ],
      "metadata": {
        "colab": {
          "base_uri": "https://localhost:8080/"
        },
        "id": "tOu_yDkT6PIR",
        "outputId": "1bbe173e-9e97-445a-b893-9c462a0cf502"
      },
      "execution_count": 18,
      "outputs": [
        {
          "output_type": "stream",
          "name": "stdout",
          "text": [
            "             date      county    state     fips  cases  deaths\n",
            "0      2021-12-11     Autauga  Alabama   1001.0  10596   158.0\n",
            "1      2021-12-11     Baldwin  Alabama   1003.0  38307   591.0\n",
            "2      2021-12-11     Barbour  Alabama   1005.0   3716    81.0\n",
            "3      2021-12-11        Bibb  Alabama   1007.0   4379    95.0\n",
            "4      2021-12-11      Blount  Alabama   1009.0  10857   193.0\n",
            "...           ...         ...      ...      ...    ...     ...\n",
            "68251  2021-12-31  Sweetwater  Wyoming  56037.0   8320   107.0\n",
            "68252  2021-12-31       Teton  Wyoming  56039.0   5950    14.0\n",
            "68253  2021-12-31       Uinta  Wyoming  56041.0   4154    31.0\n",
            "68254  2021-12-31    Washakie  Wyoming  56043.0   1879    37.0\n",
            "68255  2021-12-31      Weston  Wyoming  56045.0   1254    14.0\n",
            "\n",
            "[68256 rows x 6 columns]\n",
            "state\n",
            "California      1597587.0\n",
            "Texas           1584918.0\n",
            "Florida         1307456.0\n",
            "New York        1223032.0\n",
            "Pennsylvania     747623.0\n",
            "Illinois         638457.0\n",
            "Georgia          629055.0\n",
            "New Jersey       604202.0\n",
            "Ohio             592505.0\n",
            "Michigan         587271.0\n",
            "Name: deaths, dtype: float64\n"
          ]
        }
      ]
    },
    {
      "cell_type": "code",
      "source": [
        "df_deaths_in_2022 = df[(df['date'] >= '2022-01-01') & (df['date'] <= '2022-12-31')]\n",
        "print(df_deaths_in_2022)\n",
        "df_top_10_counties_2022 = df_deaths_in_2022.groupby('state')['deaths'].sum().nlargest(10)\n",
        "print(df_top_10_counties_2022)\n"
      ],
      "metadata": {
        "colab": {
          "base_uri": "https://localhost:8080/"
        },
        "id": "YKCzQKTO8EOe",
        "outputId": "204b6006-850a-447e-b15c-ce0d40643aa0"
      },
      "execution_count": 17,
      "outputs": [
        {
          "output_type": "stream",
          "name": "stdout",
          "text": [
            "             date      county    state     fips  cases  deaths\n",
            "68256  2022-01-01     Autauga  Alabama   1001.0  11018   160.0\n",
            "68257  2022-01-01     Baldwin  Alabama   1003.0  39911   593.0\n",
            "68258  2022-01-01     Barbour  Alabama   1005.0   3860    81.0\n",
            "68259  2022-01-01        Bibb  Alabama   1007.0   4533    95.0\n",
            "68260  2022-01-01      Blount  Alabama   1009.0  11256   198.0\n",
            "...           ...         ...      ...      ...    ...     ...\n",
            "97515  2022-01-09  Sweetwater  Wyoming  56037.0   8506   110.0\n",
            "97516  2022-01-09       Teton  Wyoming  56039.0   7025    14.0\n",
            "97517  2022-01-09       Uinta  Wyoming  56041.0   4264    34.0\n",
            "97518  2022-01-09    Washakie  Wyoming  56043.0   1914    39.0\n",
            "97519  2022-01-09      Weston  Wyoming  56045.0   1263    16.0\n",
            "\n",
            "[29264 rows x 6 columns]\n",
            "state\n",
            "California      692735.0\n",
            "Texas           688023.0\n",
            "Florida         563281.0\n",
            "New York        535742.0\n",
            "Pennsylvania    334502.0\n",
            "Illinois        282490.0\n",
            "Georgia         273385.0\n",
            "Ohio            267579.0\n",
            "Michigan        265590.0\n",
            "New Jersey      263131.0\n",
            "Name: deaths, dtype: float64\n"
          ]
        }
      ]
    },
    {
      "cell_type": "code",
      "source": [
        "\n",
        "average_deaths_per_state_2021 = df_deaths_in_2021.groupby('state')['deaths'].mean().nlargest(10)\n",
        "print(average_deaths_per_state_2021)"
      ],
      "metadata": {
        "colab": {
          "base_uri": "https://localhost:8080/"
        },
        "id": "2WJFGID98vj_",
        "outputId": "3d7efd27-6f0a-4457-ccbc-0507f02f9117"
      },
      "execution_count": 20,
      "outputs": [
        {
          "output_type": "stream",
          "name": "stdout",
          "text": [
            "state\n",
            "Puerto Rico             3285.904762\n",
            "Arizona                 1573.000000\n",
            "Massachusetts           1328.523810\n",
            "California              1311.647783\n",
            "New Jersey              1307.796537\n",
            "District of Columbia    1205.904762\n",
            "Connecticut             1006.190476\n",
            "New York                1004.131363\n",
            "Florida                  915.585434\n",
            "Delaware                 562.714286\n",
            "Name: deaths, dtype: float64\n"
          ]
        }
      ]
    },
    {
      "cell_type": "code",
      "source": [],
      "metadata": {
        "id": "T3cPJHfxA9-o"
      },
      "execution_count": null,
      "outputs": []
    }
  ]
}